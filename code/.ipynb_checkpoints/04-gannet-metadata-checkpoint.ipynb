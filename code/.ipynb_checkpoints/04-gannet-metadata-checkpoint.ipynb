{
 "cells": [
  {
   "cell_type": "markdown",
   "metadata": {},
   "source": [
    "# download fastqs from ganet, unzip and get some metadata?"
   ]
  },
  {
   "cell_type": "code",
   "execution_count": 3,
   "metadata": {},
   "outputs": [
    {
     "name": "stdout",
     "output_type": "stream",
     "text": [
      "casowari@gannet.fish.washington.edu's password: \n"
     ]
    }
   ],
   "source": [
    "#get the zipped fastqs from Gannet@fish.washington.edu\n",
    "#need password so can't complete in jupyter\n",
    "!scp casowari@Gannet.fish.washington.edu:/var/services/homes/casowari/Run_1_20170803-20210219T211100Z-002.zip \\\n",
    "!../data/Run_1_20170803-20210219T211100Z-002.zip"
   ]
  },
  {
   "cell_type": "code",
   "execution_count": 4,
   "metadata": {},
   "outputs": [
    {
     "name": "stdout",
     "output_type": "stream",
     "text": [
      "/Users/dishajpatel/Documents/GitHub/joe-benthos/code\n"
     ]
    }
   ],
   "source": [
    "#should be in the code directory of my project\n",
    "!pwd"
   ]
  },
  {
   "cell_type": "code",
   "execution_count": 6,
   "metadata": {},
   "outputs": [
    {
     "name": "stdout",
     "output_type": "stream",
     "text": [
      "Good-lib1_S1_L001_R1_001.fastq      TEST-Good-lib1_S1_L001_R1_001.fasta\n",
      "Good-lib1_S1_L001_R1_001.fastq.gz\n"
     ]
    }
   ],
   "source": [
    "#what's in the data folder?\n",
    "!ls ../data"
   ]
  },
  {
   "cell_type": "code",
   "execution_count": null,
   "metadata": {},
   "outputs": [],
   "source": []
  }
 ],
 "metadata": {
  "kernelspec": {
   "display_name": "Python 3",
   "language": "python",
   "name": "python3"
  },
  "language_info": {
   "codemirror_mode": {
    "name": "ipython",
    "version": 3
   },
   "file_extension": ".py",
   "mimetype": "text/x-python",
   "name": "python",
   "nbconvert_exporter": "python",
   "pygments_lexer": "ipython3",
   "version": "3.8.5"
  }
 },
 "nbformat": 4,
 "nbformat_minor": 4
}
