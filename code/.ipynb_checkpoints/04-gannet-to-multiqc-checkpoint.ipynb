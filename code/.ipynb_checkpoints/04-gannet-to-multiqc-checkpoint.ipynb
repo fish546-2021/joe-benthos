{
 "cells": [
  {
   "cell_type": "markdown",
   "metadata": {},
   "source": [
    "# download fastqs from ganet, unzip and get some metadata?"
   ]
  },
  {
   "cell_type": "code",
   "execution_count": 3,
   "metadata": {},
   "outputs": [
    {
     "name": "stdout",
     "output_type": "stream",
     "text": [
      "casowari@gannet.fish.washington.edu's password: \n"
     ]
    }
   ],
   "source": [
    "#get the zipped fastqs from Gannet@fish.washington.edu\n",
    "#need password so can't complete in jupyter\n",
    "!scp casowari@Gannet.fish.washington.edu:/var/services/homes/casowari/Run_1_20170803-20210219T211100Z-002.zip \\\n",
    "!../data/Run_1_20170803-20210219T211100Z-002.zip"
   ]
  },
  {
   "cell_type": "code",
   "execution_count": 15,
   "metadata": {},
   "outputs": [
    {
     "name": "stdout",
     "output_type": "stream",
     "text": [
      "/Users/dishajpatel/Documents/GitHub/joe-benthos/code\n"
     ]
    }
   ],
   "source": [
    "#should be in the code directory of my project\n",
    "!pwd"
   ]
  },
  {
   "cell_type": "code",
   "execution_count": 16,
   "metadata": {},
   "outputs": [
    {
     "name": "stdout",
     "output_type": "stream",
     "text": [
      "\u001b[31mGood-lib1_S1_L001_R1_001.fastq\u001b[m\u001b[m          \u001b[31mRun_1_20170803-20210219T211100Z-002.zip\u001b[m\u001b[m\n",
      "\u001b[31mGood-lib1_S1_L001_R1_001.fastq.gz\u001b[m\u001b[m\n"
     ]
    }
   ],
   "source": [
    "#what's in the copied data folder?\n",
    "!ls ../data/casowari"
   ]
  },
  {
   "cell_type": "code",
   "execution_count": 42,
   "metadata": {},
   "outputs": [
    {
     "name": "stdout",
     "output_type": "stream",
     "text": [
      "Archive:  ../data/casowari/Run_1_20170803-20210219T211100Z-002.zip\n",
      "  inflating: ../data/Run_1_20170803/Good-lib2_S2_L001_R1_001.fastq.gz  \n",
      "  inflating: ../data/Run_1_20170803/Good-lib1_S1_L001_R1_001.fastq.gz  \n",
      "  inflating: ../data/Run_1_20170803/Good-lib6_S6_L001_R1_001.fastq.gz  \n",
      "  inflating: ../data/Run_1_20170803/Good-lib9_S7_L001_R1_001.fastq.gz  \n",
      "  inflating: ../data/Run_1_20170803/Good-lib5_S5_L001_R2_001.fastq.gz  \n"
     ]
    }
   ],
   "source": [
    "#find all zips from cloned casowari folder and unzip them to ../data\n",
    "#TODO where are the other 10 fastqs?? lost in google drive zip? \n",
    "!find ../data/casowari -name \"*.zip\" | xargs echo | xargs unzip -d ../data"
   ]
  },
  {
   "cell_type": "code",
   "execution_count": 50,
   "metadata": {},
   "outputs": [],
   "source": [
    "#unzip the files from Run 1 \n",
    "!find ../data/Run_1_20170803/ -name \"*.fastq.gz\" | xargs gunzip"
   ]
  },
  {
   "cell_type": "code",
   "execution_count": 53,
   "metadata": {},
   "outputs": [
    {
     "name": "stdout",
     "output_type": "stream",
     "text": [
      "xargs: bioawk: No such file or directory\n"
     ]
    }
   ],
   "source": [
    "!find ../data/Run_1_20170803/ -name \"*.fastq\" | xargs bioawk -cfastx 'END{print NR}'"
   ]
  },
  {
   "cell_type": "code",
   "execution_count": null,
   "metadata": {},
   "outputs": [],
   "source": []
  }
 ],
 "metadata": {
  "kernelspec": {
   "display_name": "Python 3",
   "language": "python",
   "name": "python3"
  },
  "language_info": {
   "codemirror_mode": {
    "name": "ipython",
    "version": 3
   },
   "file_extension": ".py",
   "mimetype": "text/x-python",
   "name": "python",
   "nbconvert_exporter": "python",
   "pygments_lexer": "ipython3",
   "version": "3.8.5"
  }
 },
 "nbformat": 4,
 "nbformat_minor": 4
}
