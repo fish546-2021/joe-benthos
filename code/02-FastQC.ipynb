{
 "cells": [
  {
   "cell_type": "markdown",
   "metadata": {},
   "source": [
    "# FAST QC "
   ]
  },
  {
   "cell_type": "code",
   "execution_count": 1,
   "metadata": {},
   "outputs": [
    {
     "name": "stdout",
     "output_type": "stream",
     "text": [
      "\u001b[34mConfiguration\u001b[m\u001b[m     LICENSE_JHDF5.txt cisd-jhdf5.jar    \u001b[34morg\u001b[m\u001b[m\n",
      "\u001b[34mHelp\u001b[m\u001b[m              README.md         fastqc            run_fastqc.bat\n",
      "INSTALL.txt       README.txt        fastqc_icon.ico   sam-1.103.jar\n",
      "LICENSE           RELEASE_NOTES.txt jbzip2-0.9.jar    \u001b[34muk\u001b[m\u001b[m\n",
      "LICENSE.txt       \u001b[34mTemplates\u001b[m\u001b[m         \u001b[34mnet\u001b[m\u001b[m\n"
     ]
    }
   ],
   "source": [
    "!ls /Applications/bioinformatics/FastQC"
   ]
  },
  {
   "cell_type": "code",
   "execution_count": 2,
   "metadata": {},
   "outputs": [
    {
     "name": "stdout",
     "output_type": "stream",
     "text": [
      "/bin/bash: /Applications/bioinformatics/FastQC/fastqc: Permission denied\n"
     ]
    }
   ],
   "source": [
    "!/Applications/bioinformatics/FastQC/fastqc"
   ]
  },
  {
   "cell_type": "code",
   "execution_count": 3,
   "metadata": {},
   "outputs": [],
   "source": [
    "!chmod u+x /Applications/bioinformatics/FastQC/fastqc"
   ]
  },
  {
   "cell_type": "code",
   "execution_count": 6,
   "metadata": {},
   "outputs": [
    {
     "name": "stdout",
     "output_type": "stream",
     "text": [
      "\n",
      "            FastQC - A high throughput sequence QC analysis tool\n",
      "\n",
      "SYNOPSIS\n",
      "\n",
      "\tfastqc seqfile1 seqfile2 .. seqfileN\n",
      "\n",
      "    fastqc [-o output dir] [--(no)extract] [-f fastq|bam|sam] \n",
      "           [-c contaminant file] seqfile1 .. seqfileN\n",
      "\n",
      "DESCRIPTION\n",
      "\n",
      "    FastQC reads a set of sequence files and produces from each one a quality\n",
      "    control report consisting of a number of different modules, each one of \n",
      "    which will help to identify a different potential type of problem in your\n",
      "    data.\n",
      "    \n",
      "    If no files to process are specified on the command line then the program\n",
      "    will start as an interactive graphical application.  If files are provided\n",
      "    on the command line then the program will run with no user interaction\n",
      "    required.  In this mode it is suitable for inclusion into a standardised\n",
      "    analysis pipeline.\n",
      "    \n",
      "    The options for the program as as follows:\n",
      "    \n",
      "    -h --help       Print this help file and exit\n",
      "    \n",
      "    -v --version    Print the version of the program and exit\n",
      "    \n",
      "    -o --outdir     Create all output files in the specified output directory.\n",
      "                    Please note that this directory must exist as the program\n",
      "                    will not create it.  If this option is not set then the \n",
      "                    output file for each sequence file is created in the same\n",
      "                    directory as the sequence file which was processed.\n",
      "                    \n",
      "    --casava        Files come from raw casava output. Files in the same sample\n",
      "                    group (differing only by the group number) will be analysed\n",
      "                    as a set rather than individually. Sequences with the filter\n",
      "                    flag set in the header will be excluded from the analysis.\n",
      "                    Files must have the same names given to them by casava\n",
      "                    (including being gzipped and ending with .gz) otherwise they\n",
      "                    won't be grouped together correctly.\n",
      "                    \n",
      "    --nano          Files come from nanopore sequences and are in fast5 format. In\n",
      "                    this mode you can pass in directories to process and the program\n",
      "                    will take in all fast5 files within those directories and produce\n",
      "                    a single output file from the sequences found in all files.                    \n",
      "                    \n",
      "    --nofilter      If running with --casava then don't remove read flagged by\n",
      "                    casava as poor quality when performing the QC analysis.\n",
      "                   \n",
      "    --extract       If set then the zipped output file will be uncompressed in\n",
      "                    the same directory after it has been created.  By default\n",
      "                    this option will be set if fastqc is run in non-interactive\n",
      "                    mode.\n",
      "                    \n",
      "    -j --java       Provides the full path to the java binary you want to use to\n",
      "                    launch fastqc. If not supplied then java is assumed to be in\n",
      "                    your path.\n",
      "                   \n",
      "    --noextract     Do not uncompress the output file after creating it.  You\n",
      "                    should set this option if you do not wish to uncompress\n",
      "                    the output when running in non-interactive mode.\n",
      "                    \n",
      "    --nogroup       Disable grouping of bases for reads >50bp. All reports will\n",
      "                    show data for every base in the read.  WARNING: Using this\n",
      "                    option will cause fastqc to crash and burn if you use it on\n",
      "                    really long reads, and your plots may end up a ridiculous size.\n",
      "                    You have been warned!\n",
      "                    \n",
      "    --min_length    Sets an artificial lower limit on the length of the sequence\n",
      "                    to be shown in the report.  As long as you set this to a value\n",
      "                    greater or equal to your longest read length then this will be\n",
      "                    the sequence length used to create your read groups.  This can\n",
      "                    be useful for making directly comaparable statistics from \n",
      "                    datasets with somewhat variable read lengths.\n",
      "                    \n",
      "    -f --format     Bypasses the normal sequence file format detection and\n",
      "                    forces the program to use the specified format.  Valid\n",
      "                    formats are bam,sam,bam_mapped,sam_mapped and fastq\n",
      "                    \n",
      "    -t --threads    Specifies the number of files which can be processed\n",
      "                    simultaneously.  Each thread will be allocated 250MB of\n",
      "                    memory so you shouldn't run more threads than your\n",
      "                    available memory will cope with, and not more than\n",
      "                    6 threads on a 32 bit machine\n",
      "                  \n",
      "    -c              Specifies a non-default file which contains the list of\n",
      "    --contaminants  contaminants to screen overrepresented sequences against.\n",
      "                    The file must contain sets of named contaminants in the\n",
      "                    form name[tab]sequence.  Lines prefixed with a hash will\n",
      "                    be ignored.\n",
      "\n",
      "    -a              Specifies a non-default file which contains the list of\n",
      "    --adapters      adapter sequences which will be explicity searched against\n",
      "                    the library. The file must contain sets of named adapters\n",
      "                    in the form name[tab]sequence.  Lines prefixed with a hash\n",
      "                    will be ignored.\n",
      "                    \n",
      "    -l              Specifies a non-default file which contains a set of criteria\n",
      "    --limits        which will be used to determine the warn/error limits for the\n",
      "                    various modules.  This file can also be used to selectively \n",
      "                    remove some modules from the output all together.  The format\n",
      "                    needs to mirror the default limits.txt file found in the\n",
      "                    Configuration folder.\n",
      "                    \n",
      "   -k --kmers       Specifies the length of Kmer to look for in the Kmer content\n",
      "                    module. Specified Kmer length must be between 2 and 10. Default\n",
      "                    length is 7 if not specified.\n",
      "                    \n",
      "   -q --quiet       Supress all progress messages on stdout and only report errors.\n",
      "   \n",
      "   -d --dir         Selects a directory to be used for temporary files written when\n",
      "                    generating report images. Defaults to system temp directory if\n",
      "                    not specified.\n",
      "                    \n",
      "BUGS\n",
      "\n",
      "    Any bugs in fastqc should be reported either to simon.andrews@babraham.ac.uk\n",
      "    or in www.bioinformatics.babraham.ac.uk/bugzilla/\n",
      "                   \n",
      "    \n"
     ]
    }
   ],
   "source": [
    "!/Applications/bioinformatics/FastQC/fastqc -help"
   ]
  },
  {
   "cell_type": "code",
   "execution_count": 7,
   "metadata": {},
   "outputs": [
    {
     "name": "stdout",
     "output_type": "stream",
     "text": [
      "/Users/dishajpatel/Documents/GitHub/joe-benthos/code\n"
     ]
    }
   ],
   "source": [
    "!pwd"
   ]
  },
  {
   "cell_type": "code",
   "execution_count": 12,
   "metadata": {},
   "outputs": [
    {
     "name": "stdout",
     "output_type": "stream",
     "text": [
      "/Users/dishajpatel/Documents/GitHub/joe-benthos/data\n"
     ]
    }
   ],
   "source": [
    "# change directory without magic to remain in said directory? \n",
    "cd ../data"
   ]
  },
  {
   "cell_type": "code",
   "execution_count": 13,
   "metadata": {},
   "outputs": [
    {
     "name": "stdout",
     "output_type": "stream",
     "text": [
      "/Users/dishajpatel/Documents/GitHub/joe-benthos/data\n",
      "Good-lib1_S1_L001_R1_001.fastq\n",
      "Good-lib1_S1_L001_R1_001.fastq.gz\n"
     ]
    }
   ],
   "source": [
    "%%bash\n",
    "pwd\n",
    "ls"
   ]
  },
  {
   "cell_type": "code",
   "execution_count": 14,
   "metadata": {},
   "outputs": [],
   "source": [
    "#make fast QC output directory\n",
    "!mkdir ../analysis/fastqc-out/"
   ]
  },
  {
   "cell_type": "code",
   "execution_count": 15,
   "metadata": {},
   "outputs": [
    {
     "name": "stdout",
     "output_type": "stream",
     "text": [
      "Started analysis of Good-lib1_S1_L001_R1_001.fastq\n",
      "Approx 5% complete for Good-lib1_S1_L001_R1_001.fastq\n",
      "Approx 10% complete for Good-lib1_S1_L001_R1_001.fastq\n",
      "Approx 15% complete for Good-lib1_S1_L001_R1_001.fastq\n",
      "Approx 20% complete for Good-lib1_S1_L001_R1_001.fastq\n",
      "Approx 25% complete for Good-lib1_S1_L001_R1_001.fastq\n",
      "Approx 30% complete for Good-lib1_S1_L001_R1_001.fastq\n",
      "Approx 35% complete for Good-lib1_S1_L001_R1_001.fastq\n",
      "Approx 40% complete for Good-lib1_S1_L001_R1_001.fastq\n",
      "Approx 45% complete for Good-lib1_S1_L001_R1_001.fastq\n",
      "Approx 50% complete for Good-lib1_S1_L001_R1_001.fastq\n",
      "Approx 55% complete for Good-lib1_S1_L001_R1_001.fastq\n",
      "Approx 60% complete for Good-lib1_S1_L001_R1_001.fastq\n",
      "Approx 65% complete for Good-lib1_S1_L001_R1_001.fastq\n",
      "Approx 70% complete for Good-lib1_S1_L001_R1_001.fastq\n",
      "Approx 75% complete for Good-lib1_S1_L001_R1_001.fastq\n",
      "Approx 80% complete for Good-lib1_S1_L001_R1_001.fastq\n",
      "Approx 85% complete for Good-lib1_S1_L001_R1_001.fastq\n",
      "Approx 90% complete for Good-lib1_S1_L001_R1_001.fastq\n",
      "Approx 95% complete for Good-lib1_S1_L001_R1_001.fastq\n",
      "Analysis complete for Good-lib1_S1_L001_R1_001.fastq\n"
     ]
    }
   ],
   "source": [
    "# run QC analysis\n",
    "!/Applications/bioinformatics/FastQC/fastqc \\\n",
    "Good-lib1_S1_L001_R1_001.fastq \\\n",
    "-o ../analysis/fastqc-out"
   ]
  },
  {
   "cell_type": "code",
   "execution_count": 16,
   "metadata": {},
   "outputs": [
    {
     "name": "stdout",
     "output_type": "stream",
     "text": [
      "Good-lib1_S1_L001_R1_001_fastqc.html Good-lib1_S1_L001_R1_001_fastqc.zip\n"
     ]
    }
   ],
   "source": [
    "!ls ../analysis/fastqc-out/"
   ]
  }
 ],
 "metadata": {
  "kernelspec": {
   "display_name": "Python 3",
   "language": "python",
   "name": "python3"
  },
  "language_info": {
   "codemirror_mode": {
    "name": "ipython",
    "version": 3
   },
   "file_extension": ".py",
   "mimetype": "text/x-python",
   "name": "python",
   "nbconvert_exporter": "python",
   "pygments_lexer": "ipython3",
   "version": "3.8.5"
  }
 },
 "nbformat": 4,
 "nbformat_minor": 4
}
