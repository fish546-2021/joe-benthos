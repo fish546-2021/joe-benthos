{
 "cells": [
  {
   "cell_type": "markdown",
   "metadata": {},
   "source": [
    "# Hood Canal Data Pipeline Rough Draft"
   ]
  },
  {
   "cell_type": "markdown",
   "metadata": {},
   "source": [
    "## FAST QC"
   ]
  },
  {
   "cell_type": "code",
   "execution_count": 2,
   "metadata": {},
   "outputs": [
    {
     "name": "stdout",
     "output_type": "stream",
     "text": [
      "\u001b[34mConfiguration\u001b[m\u001b[m     LICENSE_JHDF5.txt cisd-jhdf5.jar    \u001b[34morg\u001b[m\u001b[m\n",
      "\u001b[34mHelp\u001b[m\u001b[m              README.md         \u001b[31mfastqc\u001b[m\u001b[m            run_fastqc.bat\n",
      "INSTALL.txt       README.txt        fastqc_icon.ico   sam-1.103.jar\n",
      "LICENSE           RELEASE_NOTES.txt jbzip2-0.9.jar    \u001b[34muk\u001b[m\u001b[m\n",
      "LICENSE.txt       \u001b[34mTemplates\u001b[m\u001b[m         \u001b[34mnet\u001b[m\u001b[m\n"
     ]
    }
   ],
   "source": [
    "!ls /Applications/bioinformatics/FastQC"
   ]
  },
  {
   "cell_type": "code",
   "execution_count": 3,
   "metadata": {},
   "outputs": [],
   "source": [
    "!/Applications/bioinformatics/FastQC/fastqc"
   ]
  },
  {
   "cell_type": "code",
   "execution_count": 4,
   "metadata": {},
   "outputs": [],
   "source": [
    "!chmod u+x /Applications/bioinformatics/FastQC/fastqc"
   ]
  },
  {
   "cell_type": "code",
   "execution_count": 6,
   "metadata": {},
   "outputs": [
    {
     "name": "stdout",
     "output_type": "stream",
     "text": [
      "\n",
      "            FastQC - A high throughput sequence QC analysis tool\n",
      "\n",
      "SYNOPSIS\n",
      "\n",
      "\tfastqc seqfile1 seqfile2 .. seqfileN\n",
      "\n",
      "    fastqc [-o output dir] [--(no)extract] [-f fastq|bam|sam] \n",
      "           [-c contaminant file] seqfile1 .. seqfileN\n",
      "\n",
      "DESCRIPTION\n",
      "\n",
      "    FastQC reads a set of sequence files and produces from each one a quality\n",
      "    control report consisting of a number of different modules, each one of \n",
      "    which will help to identify a different potential type of problem in your\n",
      "    data.\n",
      "    \n",
      "    If no files to process are specified on the command line then the program\n",
      "    will start as an interactive graphical application.  If files are provided\n",
      "    on the command line then the program will run with no user interaction\n",
      "    required.  In this mode it is suitable for inclusion into a standardised\n",
      "    analysis pipeline.\n",
      "    \n",
      "    The options for the program as as follows:\n",
      "    \n",
      "    -h --help       Print this help file and exit\n",
      "    \n",
      "    -v --version    Print the version of the program and exit\n",
      "    \n",
      "    -o --outdir     Create all output files in the specified output directory.\n",
      "                    Please note that this directory must exist as the program\n",
      "                    will not create it.  If this option is not set then the \n",
      "                    output file for each sequence file is created in the same\n",
      "                    directory as the sequence file which was processed.\n",
      "                    \n",
      "    --casava        Files come from raw casava output. Files in the same sample\n",
      "                    group (differing only by the group number) will be analysed\n",
      "                    as a set rather than individually. Sequences with the filter\n",
      "                    flag set in the header will be excluded from the analysis.\n",
      "                    Files must have the same names given to them by casava\n",
      "                    (including being gzipped and ending with .gz) otherwise they\n",
      "                    won't be grouped together correctly.\n",
      "                    \n",
      "    --nano          Files come from nanopore sequences and are in fast5 format. In\n",
      "                    this mode you can pass in directories to process and the program\n",
      "                    will take in all fast5 files within those directories and produce\n",
      "                    a single output file from the sequences found in all files.                    \n",
      "                    \n",
      "    --nofilter      If running with --casava then don't remove read flagged by\n",
      "                    casava as poor quality when performing the QC analysis.\n",
      "                   \n",
      "    --extract       If set then the zipped output file will be uncompressed in\n",
      "                    the same directory after it has been created.  By default\n",
      "                    this option will be set if fastqc is run in non-interactive\n",
      "                    mode.\n",
      "                    \n",
      "    -j --java       Provides the full path to the java binary you want to use to\n",
      "                    launch fastqc. If not supplied then java is assumed to be in\n",
      "                    your path.\n",
      "                   \n",
      "    --noextract     Do not uncompress the output file after creating it.  You\n",
      "                    should set this option if you do not wish to uncompress\n",
      "                    the output when running in non-interactive mode.\n",
      "                    \n",
      "    --nogroup       Disable grouping of bases for reads >50bp. All reports will\n",
      "                    show data for every base in the read.  WARNING: Using this\n",
      "                    option will cause fastqc to crash and burn if you use it on\n",
      "                    really long reads, and your plots may end up a ridiculous size.\n",
      "                    You have been warned!\n",
      "                    \n",
      "    --min_length    Sets an artificial lower limit on the length of the sequence\n",
      "                    to be shown in the report.  As long as you set this to a value\n",
      "                    greater or equal to your longest read length then this will be\n",
      "                    the sequence length used to create your read groups.  This can\n",
      "                    be useful for making directly comaparable statistics from \n",
      "                    datasets with somewhat variable read lengths.\n",
      "                    \n",
      "    -f --format     Bypasses the normal sequence file format detection and\n",
      "                    forces the program to use the specified format.  Valid\n",
      "                    formats are bam,sam,bam_mapped,sam_mapped and fastq\n",
      "                    \n",
      "    -t --threads    Specifies the number of files which can be processed\n",
      "                    simultaneously.  Each thread will be allocated 250MB of\n",
      "                    memory so you shouldn't run more threads than your\n",
      "                    available memory will cope with, and not more than\n",
      "                    6 threads on a 32 bit machine\n",
      "                  \n",
      "    -c              Specifies a non-default file which contains the list of\n",
      "    --contaminants  contaminants to screen overrepresented sequences against.\n",
      "                    The file must contain sets of named contaminants in the\n",
      "                    form name[tab]sequence.  Lines prefixed with a hash will\n",
      "                    be ignored.\n",
      "\n",
      "    -a              Specifies a non-default file which contains the list of\n",
      "    --adapters      adapter sequences which will be explicity searched against\n",
      "                    the library. The file must contain sets of named adapters\n",
      "                    in the form name[tab]sequence.  Lines prefixed with a hash\n",
      "                    will be ignored.\n",
      "                    \n",
      "    -l              Specifies a non-default file which contains a set of criteria\n",
      "    --limits        which will be used to determine the warn/error limits for the\n",
      "                    various modules.  This file can also be used to selectively \n",
      "                    remove some modules from the output all together.  The format\n",
      "                    needs to mirror the default limits.txt file found in the\n",
      "                    Configuration folder.\n",
      "                    \n",
      "   -k --kmers       Specifies the length of Kmer to look for in the Kmer content\n",
      "                    module. Specified Kmer length must be between 2 and 10. Default\n",
      "                    length is 7 if not specified.\n",
      "                    \n",
      "   -q --quiet       Supress all progress messages on stdout and only report errors.\n",
      "   \n",
      "   -d --dir         Selects a directory to be used for temporary files written when\n",
      "                    generating report images. Defaults to system temp directory if\n",
      "                    not specified.\n",
      "                    \n",
      "BUGS\n",
      "\n",
      "    Any bugs in fastqc should be reported either to simon.andrews@babraham.ac.uk\n",
      "    or in www.bioinformatics.babraham.ac.uk/bugzilla/\n",
      "                   \n",
      "    \n"
     ]
    }
   ],
   "source": [
    "!/Applications/bioinformatics/FastQC/fastqc -help"
   ]
  },
  {
   "cell_type": "code",
   "execution_count": 7,
   "metadata": {},
   "outputs": [
    {
     "name": "stdout",
     "output_type": "stream",
     "text": [
      "/Users/dishajpatel/Documents/GitHub/joe-benthos/code\n"
     ]
    }
   ],
   "source": [
    "!pwd"
   ]
  },
  {
   "cell_type": "code",
   "execution_count": 12,
   "metadata": {},
   "outputs": [
    {
     "name": "stdout",
     "output_type": "stream",
     "text": [
      "/Users/dishajpatel/Documents/GitHub/joe-benthos/data\n"
     ]
    }
   ],
   "source": [
    "# change directory without magic to remain in said directory? \n",
    "cd ../data"
   ]
  },
  {
   "cell_type": "code",
   "execution_count": 13,
   "metadata": {},
   "outputs": [
    {
     "name": "stdout",
     "output_type": "stream",
     "text": [
      "/Users/dishajpatel/Documents/GitHub/joe-benthos/data\n",
      "Good-lib1_S1_L001_R1_001.fastq\n",
      "Good-lib1_S1_L001_R1_001.fastq.gz\n"
     ]
    }
   ],
   "source": [
    "%%bash\n",
    "pwd\n",
    "ls"
   ]
  },
  {
   "cell_type": "code",
   "execution_count": 14,
   "metadata": {},
   "outputs": [],
   "source": [
    "#make fast QC output directory\n",
    "!mkdir ../analysis/fastqc-out/"
   ]
  },
  {
   "cell_type": "code",
   "execution_count": 15,
   "metadata": {},
   "outputs": [
    {
     "name": "stdout",
     "output_type": "stream",
     "text": [
      "Started analysis of Good-lib1_S1_L001_R1_001.fastq\n",
      "Approx 5% complete for Good-lib1_S1_L001_R1_001.fastq\n",
      "Approx 10% complete for Good-lib1_S1_L001_R1_001.fastq\n",
      "Approx 15% complete for Good-lib1_S1_L001_R1_001.fastq\n",
      "Approx 20% complete for Good-lib1_S1_L001_R1_001.fastq\n",
      "Approx 25% complete for Good-lib1_S1_L001_R1_001.fastq\n",
      "Approx 30% complete for Good-lib1_S1_L001_R1_001.fastq\n",
      "Approx 35% complete for Good-lib1_S1_L001_R1_001.fastq\n",
      "Approx 40% complete for Good-lib1_S1_L001_R1_001.fastq\n",
      "Approx 45% complete for Good-lib1_S1_L001_R1_001.fastq\n",
      "Approx 50% complete for Good-lib1_S1_L001_R1_001.fastq\n",
      "Approx 55% complete for Good-lib1_S1_L001_R1_001.fastq\n",
      "Approx 60% complete for Good-lib1_S1_L001_R1_001.fastq\n",
      "Approx 65% complete for Good-lib1_S1_L001_R1_001.fastq\n",
      "Approx 70% complete for Good-lib1_S1_L001_R1_001.fastq\n",
      "Approx 75% complete for Good-lib1_S1_L001_R1_001.fastq\n",
      "Approx 80% complete for Good-lib1_S1_L001_R1_001.fastq\n",
      "Approx 85% complete for Good-lib1_S1_L001_R1_001.fastq\n",
      "Approx 90% complete for Good-lib1_S1_L001_R1_001.fastq\n",
      "Approx 95% complete for Good-lib1_S1_L001_R1_001.fastq\n",
      "Analysis complete for Good-lib1_S1_L001_R1_001.fastq\n"
     ]
    }
   ],
   "source": [
    "# run QC analysis\n",
    "!/Applications/bioinformatics/FastQC/fastqc \\\n",
    "Good-lib1_S1_L001_R1_001.fastq \\\n",
    "-o ../analysis/fastqc-out"
   ]
  },
  {
   "cell_type": "code",
   "execution_count": 16,
   "metadata": {},
   "outputs": [
    {
     "name": "stdout",
     "output_type": "stream",
     "text": [
      "Good-lib1_S1_L001_R1_001_fastqc.html Good-lib1_S1_L001_R1_001_fastqc.zip\n"
     ]
    }
   ],
   "source": [
    "!ls ../analysis/fastqc-out/"
   ]
  },
  {
   "cell_type": "markdown",
   "metadata": {},
   "source": [
    "## Blast X"
   ]
  },
  {
   "cell_type": "code",
   "execution_count": 6,
   "metadata": {},
   "outputs": [],
   "source": [
    "bldir = \"/Applications/bioinformatics/ncbi-blast-2.11.0+/bin/\""
   ]
  },
  {
   "cell_type": "code",
   "execution_count": 7,
   "metadata": {},
   "outputs": [
    {
     "name": "stdout",
     "output_type": "stream",
     "text": [
      "USAGE\n",
      "  blastx [-h] [-help] [-import_search_strategy filename]\n",
      "    [-export_search_strategy filename] [-task task_name] [-db database_name]\n",
      "    [-dbsize num_letters] [-gilist filename] [-seqidlist filename]\n",
      "    [-negative_gilist filename] [-negative_seqidlist filename]\n",
      "    [-taxids taxids] [-negative_taxids taxids] [-taxidlist filename]\n",
      "    [-negative_taxidlist filename] [-ipglist filename]\n",
      "    [-negative_ipglist filename] [-entrez_query entrez_query]\n",
      "    [-db_soft_mask filtering_algorithm] [-db_hard_mask filtering_algorithm]\n",
      "    [-subject subject_input_file] [-subject_loc range] [-query input_file]\n",
      "    [-out output_file] [-evalue evalue] [-word_size int_value]\n",
      "    [-gapopen open_penalty] [-gapextend extend_penalty]\n",
      "    [-qcov_hsp_perc float_value] [-max_hsps int_value]\n",
      "    [-xdrop_ungap float_value] [-xdrop_gap float_value]\n",
      "    [-xdrop_gap_final float_value] [-searchsp int_value]\n",
      "    [-sum_stats bool_value] [-max_intron_length length] [-seg SEG_options]\n",
      "    [-soft_masking soft_masking] [-matrix matrix_name]\n",
      "    [-threshold float_value] [-culling_limit int_value]\n",
      "    [-best_hit_overhang float_value] [-best_hit_score_edge float_value]\n",
      "    [-subject_besthit] [-window_size int_value] [-ungapped] [-lcase_masking]\n",
      "    [-query_loc range] [-strand strand] [-parse_deflines]\n",
      "    [-query_gencode int_value] [-outfmt format] [-show_gis]\n",
      "    [-num_descriptions int_value] [-num_alignments int_value]\n",
      "    [-line_length line_length] [-html] [-sorthits sort_hits]\n",
      "    [-sorthsps sort_hsps] [-max_target_seqs num_sequences]\n",
      "    [-num_threads int_value] [-remote] [-comp_based_stats compo]\n",
      "    [-use_sw_tback] [-version]\n",
      "\n",
      "DESCRIPTION\n",
      "   Translated Query-Protein Subject BLAST 2.11.0+\n",
      "\n",
      "Use '-help' to print detailed descriptions of command line arguments\n"
     ]
    }
   ],
   "source": [
    "#test file path variable\n",
    "!{bldir}blastx -h"
   ]
  },
  {
   "cell_type": "markdown",
   "metadata": {},
   "source": [
    "## Create Blast Database\n",
    "Make a database of UniProt/Swiss-prot:"
   ]
  },
  {
   "cell_type": "code",
   "execution_count": 8,
   "metadata": {},
   "outputs": [
    {
     "name": "stdout",
     "output_type": "stream",
     "text": [
      "/Users/dishajpatel/Documents/GitHub/joe-benthos/code\n"
     ]
    }
   ],
   "source": [
    "!pwd"
   ]
  },
  {
   "cell_type": "code",
   "execution_count": 9,
   "metadata": {},
   "outputs": [
    {
     "name": "stdout",
     "output_type": "stream",
     "text": [
      "  % Total    % Received % Xferd  Average Speed   Time    Time     Time  Current\n",
      "                                 Dload  Upload   Total   Spent    Left  Speed\n",
      "  6 85.6M    6 5349k    0     0   605k      0  0:02:24  0:00:08  0:02:16  957k^C\n"
     ]
    }
   ],
   "source": [
    "!curl \\\n",
    "ftp://ftp.uniprot.org/pub/databases/uniprot/current_release/knowledgebase/complete/uniprot_sprot.fasta.gz \\\n",
    "> ../blast-db/uniprot_sprot.fasta.gz"
   ]
  },
  {
   "cell_type": "code",
   "execution_count": 10,
   "metadata": {},
   "outputs": [
    {
     "name": "stdout",
     "output_type": "stream",
     "text": [
      "../blast-db/uniprot_sprot.fasta already exists -- do you wish to overwrite (y or n)? ^C\n"
     ]
    }
   ],
   "source": [
    "!gunzip ../blast-db/uniprot_sprot.fasta.gz"
   ]
  },
  {
   "cell_type": "code",
   "execution_count": 13,
   "metadata": {},
   "outputs": [
    {
     "name": "stdout",
     "output_type": "stream",
     "text": [
      "\n",
      "\n",
      "Building a new DB, current time: 02/10/2021 20:32:12\n",
      "New DB name:   /Users/dishajpatel/Documents/GitHub/joe-benthos/blast-db/uniprot_sprot_r2021_01\n",
      "New DB title:  ../blast-db/uniprot_sprot.fasta\n",
      "Sequence type: Protein\n",
      "Deleted existing Protein BLAST database named /Users/dishajpatel/Documents/GitHub/joe-benthos/blast-db/uniprot_sprot_r2021_01\n",
      "Keep MBits: T\n",
      "Maximum file size: 1000000000B\n",
      "Adding sequences from FASTA; added 563972 sequences in 24.1667 seconds.\n",
      "\n",
      "\n"
     ]
    }
   ],
   "source": [
    "#appending version number to database\n",
    "!{bldir}makeblastdb \\\n",
    "-in ../blast-db/uniprot_sprot.fasta \\\n",
    "-dbtype prot \\\n",
    "-out ../blast-db/uniprot_sprot_r2021_01"
   ]
  },
  {
   "cell_type": "markdown",
   "metadata": {},
   "source": [
    "## Compare Sample Hood Canal Data with Uniprot"
   ]
  },
  {
   "cell_type": "code",
   "execution_count": 17,
   "metadata": {},
   "outputs": [
    {
     "name": "stdout",
     "output_type": "stream",
     "text": [
      "Warning: [blastx] Examining 5 or more matches is recommended\n",
      "^C\n"
     ]
    }
   ],
   "source": [
    "#initial attempt\n",
    "!{bldir}blastx \\\n",
    "-query ../data/TEST-Good-lib1_S1_L001_R1_001.fasta \\\n",
    "-db ../blast-db/uniprot_sprot_r2021_01  \\\n",
    "-out ../analysis/Good-lib1-test-uniprot_blastx.tab \\\n",
    "-evalue 1E-20 \\\n",
    "-num_threads 4 \\\n",
    "-max_target_seqs 1 \\\n",
    "-outfmt 6"
   ]
  },
  {
   "cell_type": "code",
   "execution_count": 15,
   "metadata": {},
   "outputs": [
    {
     "name": "stdout",
     "output_type": "stream",
     "text": [
      "Warning: [blastx] Examining 5 or more matches is recommended\n",
      "^C\n"
     ]
    }
   ],
   "source": [
    "#different report format? \n",
    "!{bldir}blastx \\\n",
    "-query ../data/TEST-Good-lib1_S1_L001_R1_001.fasta \\\n",
    "-db ../blast-db/uniprot_sprot_r2021_01  \\\n",
    "-out ../analysis/organism-report-uniprot_blastx.tab \\\n",
    "-evalue 1E-20 \\\n",
    "-num_threads 4 \\\n",
    "-max_target_seqs 1 \\\n",
    "-outfmt 18"
   ]
  },
  {
   "cell_type": "code",
   "execution_count": 89,
   "metadata": {},
   "outputs": [
    {
     "name": "stdout",
     "output_type": "stream",
     "text": [
      "USAGE\n",
      "  blastx [-h] [-help] [-import_search_strategy filename]\n",
      "    [-export_search_strategy filename] [-task task_name] [-db database_name]\n",
      "    [-dbsize num_letters] [-gilist filename] [-seqidlist filename]\n",
      "    [-negative_gilist filename] [-negative_seqidlist filename]\n",
      "    [-taxids taxids] [-negative_taxids taxids] [-taxidlist filename]\n",
      "    [-negative_taxidlist filename] [-ipglist filename]\n",
      "    [-negative_ipglist filename] [-entrez_query entrez_query]\n",
      "    [-db_soft_mask filtering_algorithm] [-db_hard_mask filtering_algorithm]\n",
      "    [-subject subject_input_file] [-subject_loc range] [-query input_file]\n",
      "    [-out output_file] [-evalue evalue] [-word_size int_value]\n",
      "    [-gapopen open_penalty] [-gapextend extend_penalty]\n",
      "    [-qcov_hsp_perc float_value] [-max_hsps int_value]\n",
      "    [-xdrop_ungap float_value] [-xdrop_gap float_value]\n",
      "    [-xdrop_gap_final float_value] [-searchsp int_value]\n",
      "    [-sum_stats bool_value] [-max_intron_length length] [-seg SEG_options]\n",
      "    [-soft_masking soft_masking] [-matrix matrix_name]\n",
      "    [-threshold float_value] [-culling_limit int_value]\n",
      "    [-best_hit_overhang float_value] [-best_hit_score_edge float_value]\n",
      "    [-subject_besthit] [-window_size int_value] [-ungapped] [-lcase_masking]\n",
      "    [-query_loc range] [-strand strand] [-parse_deflines]\n",
      "    [-query_gencode int_value] [-outfmt format] [-show_gis]\n",
      "    [-num_descriptions int_value] [-num_alignments int_value]\n",
      "    [-line_length line_length] [-html] [-sorthits sort_hits]\n",
      "    [-sorthsps sort_hsps] [-max_target_seqs num_sequences]\n",
      "    [-num_threads int_value] [-remote] [-comp_based_stats compo]\n",
      "    [-use_sw_tback] [-version]\n",
      "\n",
      "DESCRIPTION\n",
      "   Translated Query-Protein Subject BLAST 2.11.0+\n",
      "\n",
      "OPTIONAL ARGUMENTS\n",
      " -h\n",
      "   Print USAGE and DESCRIPTION;  ignore all other parameters\n",
      " -help\n",
      "   Print USAGE, DESCRIPTION and ARGUMENTS; ignore all other parameters\n",
      " -version\n",
      "   Print version number;  ignore other arguments\n",
      "\n",
      " *** Input query options\n",
      " -query <File_In>\n",
      "   Input file name\n",
      "   Default = `-'\n",
      " -query_loc <String>\n",
      "   Location on the query sequence in 1-based offsets (Format: start-stop)\n",
      " -strand <String, `both', `minus', `plus'>\n",
      "   Query strand(s) to search against database/subject\n",
      "   Default = `both'\n",
      " -query_gencode <Integer, values between: 1-6, 9-16, 21-31, 33>\n",
      "   Genetic code to use to translate query (see\n",
      "   https://www.ncbi.nlm.nih.gov/Taxonomy/taxonomyhome.html/index.cgi?chapter=\n",
      "   cgencodes for details)\n",
      "   Default = `1'\n",
      "\n",
      " *** General search options\n",
      " -task <String, Permissible values: 'blastx' 'blastx-fast' >\n",
      "   Task to execute\n",
      "   Default = `blastx'\n",
      " -db <String>\n",
      "   BLAST database name\n",
      "    * Incompatible with:  subject, subject_loc\n",
      " -out <File_Out>\n",
      "   Output file name\n",
      "   Default = `-'\n",
      " -evalue <Real>\n",
      "   Expectation value (E) threshold for saving hits \n",
      "   Default = `10'\n",
      " -word_size <Integer, >=2>\n",
      "   Word size for wordfinder algorithm\n",
      " -gapopen <Integer>\n",
      "   Cost to open a gap\n",
      " -gapextend <Integer>\n",
      "   Cost to extend a gap\n",
      " -max_intron_length <Integer, >=0>\n",
      "   Length of the largest intron allowed in a translated nucleotide sequence\n",
      "   when linking multiple distinct alignments\n",
      "   Default = `0'\n",
      " -matrix <String>\n",
      "   Scoring matrix name (normally BLOSUM62)\n",
      " -threshold <Real, >=0>\n",
      "   Minimum word score such that the word is added to the BLAST lookup table\n",
      " -comp_based_stats <String>\n",
      "   Use composition-based statistics:\n",
      "       D or d: default (equivalent to 2 )\n",
      "       0 or F or f: No composition-based statistics\n",
      "       1: Composition-based statistics as in NAR 29:2994-3005, 2001\n",
      "       2 or T or t : Composition-based score adjustment as in Bioinformatics\n",
      "   21:902-911,\n",
      "       2005, conditioned on sequence properties\n",
      "       3: Composition-based score adjustment as in Bioinformatics 21:902-911,\n",
      "       2005, unconditionally\n",
      "   Default = `2'\n",
      "\n",
      " *** BLAST-2-Sequences options\n",
      " -subject <File_In>\n",
      "   Subject sequence(s) to search\n",
      "    * Incompatible with:  db, gilist, seqidlist, negative_gilist,\n",
      "   negative_seqidlist, taxids, taxidlist, negative_taxids, negative_taxidlist,\n",
      "   ipglist, negative_ipglist, db_soft_mask, db_hard_mask\n",
      " -subject_loc <String>\n",
      "   Location on the subject sequence in 1-based offsets (Format: start-stop)\n",
      "    * Incompatible with:  db, gilist, seqidlist, negative_gilist,\n",
      "   negative_seqidlist, taxids, taxidlist, negative_taxids, negative_taxidlist,\n",
      "   ipglist, negative_ipglist, db_soft_mask, db_hard_mask, remote\n",
      "\n",
      " *** Formatting options\n",
      " -outfmt <String>\n",
      "   alignment view options:\n",
      "     0 = Pairwise,\n",
      "     1 = Query-anchored showing identities,\n",
      "     2 = Query-anchored no identities,\n",
      "     3 = Flat query-anchored showing identities,\n",
      "     4 = Flat query-anchored no identities,\n",
      "     5 = BLAST XML,\n",
      "     6 = Tabular,\n",
      "     7 = Tabular with comment lines,\n",
      "     8 = Seqalign (Text ASN.1),\n",
      "     9 = Seqalign (Binary ASN.1),\n",
      "    10 = Comma-separated values,\n",
      "    11 = BLAST archive (ASN.1),\n",
      "    12 = Seqalign (JSON),\n",
      "    13 = Multiple-file BLAST JSON,\n",
      "    14 = Multiple-file BLAST XML2,\n",
      "    15 = Single-file BLAST JSON,\n",
      "    16 = Single-file BLAST XML2,\n",
      "    18 = Organism Report\n",
      "   \n",
      "   Options 6, 7 and 10 can be additionally configured to produce\n",
      "   a custom format specified by space delimited format specifiers,\n",
      "   or by a token specified by the delim keyword.\n",
      "    E.g.: \"10 delim=@ qacc sacc score\".\n",
      "   The delim keyword must appear after the numeric output format\n",
      "   specification.\n",
      "   The supported format specifiers are:\n",
      "   \t    qseqid means Query Seq-id\n",
      "   \t       qgi means Query GI\n",
      "   \t      qacc means Query accesion\n",
      "   \t   qaccver means Query accesion.version\n",
      "   \t      qlen means Query sequence length\n",
      "   \t    sseqid means Subject Seq-id\n",
      "   \t sallseqid means All subject Seq-id(s), separated by a ';'\n",
      "   \t       sgi means Subject GI\n",
      "   \t    sallgi means All subject GIs\n",
      "   \t      sacc means Subject accession\n",
      "   \t   saccver means Subject accession.version\n",
      "   \t   sallacc means All subject accessions\n",
      "   \t      slen means Subject sequence length\n",
      "   \t    qstart means Start of alignment in query\n",
      "   \t      qend means End of alignment in query\n",
      "   \t    sstart means Start of alignment in subject\n",
      "   \t      send means End of alignment in subject\n",
      "   \t      qseq means Aligned part of query sequence\n",
      "   \t      sseq means Aligned part of subject sequence\n",
      "   \t    evalue means Expect value\n",
      "   \t  bitscore means Bit score\n",
      "   \t     score means Raw score\n",
      "   \t    length means Alignment length\n",
      "   \t    pident means Percentage of identical matches\n",
      "   \t    nident means Number of identical matches\n",
      "   \t  mismatch means Number of mismatches\n",
      "   \t  positive means Number of positive-scoring matches\n",
      "   \t   gapopen means Number of gap openings\n",
      "   \t      gaps means Total number of gaps\n",
      "   \t      ppos means Percentage of positive-scoring matches\n",
      "   \t    frames means Query and subject frames separated by a '/'\n",
      "   \t    qframe means Query frame\n",
      "   \t    sframe means Subject frame\n",
      "   \t      btop means Blast traceback operations (BTOP)\n",
      "   \t    staxid means Subject Taxonomy ID\n",
      "   \t  ssciname means Subject Scientific Name\n",
      "   \t  scomname means Subject Common Name\n",
      "   \tsblastname means Subject Blast Name\n",
      "   \t sskingdom means Subject Super Kingdom\n",
      "   \t   staxids means unique Subject Taxonomy ID(s), separated by a ';'\n",
      "   \t\t\t (in numerical order)\n",
      "   \t sscinames means unique Subject Scientific Name(s), separated by a ';'\n",
      "   \t scomnames means unique Subject Common Name(s), separated by a ';'\n",
      "   \tsblastnames means unique Subject Blast Name(s), separated by a ';'\n",
      "   \t\t\t (in alphabetical order)\n",
      "   \tsskingdoms means unique Subject Super Kingdom(s), separated by a ';'\n",
      "   \t\t\t (in alphabetical order) \n",
      "   \t    stitle means Subject Title\n",
      "   \tsalltitles means All Subject Title(s), separated by a '<>'\n",
      "   \t   sstrand means Subject Strand\n",
      "   \t     qcovs means Query Coverage Per Subject\n",
      "   \t   qcovhsp means Query Coverage Per HSP\n",
      "   \t    qcovus means Query Coverage Per Unique Subject (blastn only)\n",
      "   When not provided, the default value is:\n",
      "   'qaccver saccver pident length mismatch gapopen qstart qend sstart send\n",
      "   evalue bitscore', which is equivalent to the keyword 'std'\n",
      "   Default = `0'\n",
      " -show_gis\n",
      "   Show NCBI GIs in deflines?\n",
      " -num_descriptions <Integer, >=0>\n",
      "   Number of database sequences to show one-line descriptions for\n",
      "   Not applicable for outfmt > 4\n",
      "   Default = `500'\n",
      "    * Incompatible with:  max_target_seqs\n",
      " -num_alignments <Integer, >=0>\n",
      "   Number of database sequences to show alignments for\n",
      "   Default = `250'\n",
      "    * Incompatible with:  max_target_seqs\n",
      " -line_length <Integer, >=1>\n",
      "   Line length for formatting alignments\n",
      "   Not applicable for outfmt > 4\n",
      "   Default = `60'\n",
      " -html\n",
      "   Produce HTML output?\n",
      " -sorthits <Integer, (>=0 and =<4)>\n",
      "   Sorting option for hits:\n",
      "   alignment view options:\n",
      "     0 = Sort by evalue,\n",
      "     1 = Sort by bit score,\n",
      "     2 = Sort by total score,\n",
      "     3 = Sort by percent identity,\n",
      "     4 = Sort by query coverage\n",
      "   Not applicable for outfmt > 4\n",
      " -sorthsps <Integer, (>=0 and =<4)>\n",
      "   Sorting option for hps:\n",
      "     0 = Sort by hsp evalue,\n",
      "     1 = Sort by hsp score,\n",
      "     2 = Sort by hsp query start,\n",
      "     3 = Sort by hsp percent identity,\n",
      "     4 = Sort by hsp subject start\n",
      "   Not applicable for outfmt != 0\n",
      "\n",
      " *** Query filtering options\n",
      " -seg <String>\n",
      "   Filter query sequence with SEG (Format: 'yes', 'window locut hicut', or\n",
      "   'no' to disable)\n",
      "   Default = `12 2.2 2.5'\n",
      " -soft_masking <Boolean>\n",
      "   Apply filtering locations as soft masks\n",
      "   Default = `false'\n",
      " -lcase_masking\n",
      "   Use lower case filtering in query and subject sequence(s)?\n",
      "\n",
      " *** Restrict search or results\n",
      " -gilist <String>\n",
      "   Restrict search of database to list of GIs\n",
      "    * Incompatible with:  seqidlist, taxids, taxidlist, negative_gilist,\n",
      "   negative_seqidlist, negative_taxids, negative_taxidlist, remote, subject,\n",
      "   subject_loc\n",
      " -seqidlist <String>\n",
      "   Restrict search of database to list of SeqIDs\n",
      "    * Incompatible with:  gilist, taxids, taxidlist, negative_gilist,\n",
      "   negative_seqidlist, negative_taxids, negative_taxidlist, remote, subject,\n",
      "   subject_loc\n",
      " -negative_gilist <String>\n",
      "   Restrict search of database to everything except the specified GIs\n",
      "    * Incompatible with:  gilist, seqidlist, taxids, taxidlist,\n",
      "   negative_seqidlist, negative_taxids, negative_taxidlist, remote, subject,\n",
      "   subject_loc\n",
      " -negative_seqidlist <String>\n",
      "   Restrict search of database to everything except the specified SeqIDs\n",
      "    * Incompatible with:  gilist, seqidlist, taxids, taxidlist,\n",
      "   negative_gilist, negative_taxids, negative_taxidlist, remote, subject,\n",
      "   subject_loc\n",
      " -taxids <String>\n",
      "   Restrict search of database to include only the specified taxonomy IDs\n",
      "   (multiple IDs delimited by ',')\n",
      "    * Incompatible with:  gilist, seqidlist, taxidlist, negative_gilist,\n",
      "   negative_seqidlist, negative_taxids, negative_taxidlist, remote, subject,\n",
      "   subject_loc\n",
      " -negative_taxids <String>\n",
      "   Restrict search of database to everything except the specified taxonomy IDs\n",
      "   (multiple IDs delimited by ',')\n",
      "    * Incompatible with:  gilist, seqidlist, taxids, taxidlist,\n",
      "   negative_gilist, negative_seqidlist, negative_taxidlist, remote, subject,\n",
      "   subject_loc\n",
      " -taxidlist <String>\n",
      "   Restrict search of database to include only the specified taxonomy IDs\n",
      "    * Incompatible with:  gilist, seqidlist, taxids, negative_gilist,\n",
      "   negative_seqidlist, negative_taxids, negative_taxidlist, remote, subject,\n",
      "   subject_loc\n",
      " -negative_taxidlist <String>\n",
      "   Restrict search of database to everything except the specified taxonomy IDs\n",
      "    * Incompatible with:  gilist, seqidlist, taxids, taxidlist,\n",
      "   negative_gilist, negative_seqidlist, negative_taxids, remote, subject,\n",
      "   subject_loc\n",
      " -ipglist <String>\n",
      "   Restrict search of database to list of IPGs\n",
      "    * Incompatible with:  subject, subject_loc\n",
      " -negative_ipglist <String>\n",
      "   Restrict search of database to everything except the specified IPGs\n",
      "    * Incompatible with:  subject, subject_loc\n",
      " -entrez_query <String>\n",
      "   Restrict search with the given Entrez query\n",
      "    * Requires:  remote\n",
      " -db_soft_mask <String>\n",
      "   Filtering algorithm ID to apply to the BLAST database as soft masking\n",
      "    * Incompatible with:  db_hard_mask, subject, subject_loc\n",
      " -db_hard_mask <String>\n",
      "   Filtering algorithm ID to apply to the BLAST database as hard masking\n",
      "    * Incompatible with:  db_soft_mask, subject, subject_loc\n",
      " -qcov_hsp_perc <Real, 0..100>\n",
      "   Percent query coverage per hsp\n",
      " -max_hsps <Integer, >=1>\n",
      "   Set maximum number of HSPs per subject sequence to save for each query\n",
      " -culling_limit <Integer, >=0>\n",
      "   If the query range of a hit is enveloped by that of at least this many\n",
      "   higher-scoring hits, delete the hit\n",
      "    * Incompatible with:  best_hit_overhang, best_hit_score_edge\n",
      " -best_hit_overhang <Real, (>0 and <0.5)>\n",
      "   Best Hit algorithm overhang value (recommended value: 0.1)\n",
      "    * Incompatible with:  culling_limit\n",
      " -best_hit_score_edge <Real, (>0 and <0.5)>\n",
      "   Best Hit algorithm score edge value (recommended value: 0.1)\n",
      "    * Incompatible with:  culling_limit\n",
      " -subject_besthit\n",
      "   Turn on best hit per subject sequence\n",
      " -max_target_seqs <Integer, >=1>\n",
      "   Maximum number of aligned sequences to keep \n",
      "   (value of 5 or more is recommended)\n",
      "   Default = `500'\n",
      "    * Incompatible with:  num_descriptions, num_alignments\n",
      "\n",
      " *** Statistical options\n",
      " -dbsize <Int8>\n",
      "   Effective length of the database \n",
      " -searchsp <Int8, >=0>\n",
      "   Effective length of the search space\n",
      " -sum_stats <Boolean>\n",
      "   Use sum statistics\n",
      "\n",
      " *** Search strategy options\n",
      " -import_search_strategy <File_In>\n",
      "   Search strategy to use\n",
      "    * Incompatible with:  export_search_strategy\n",
      " -export_search_strategy <File_Out>\n",
      "   File name to record the search strategy used\n",
      "    * Incompatible with:  import_search_strategy\n",
      "\n",
      " *** Extension options\n",
      " -xdrop_ungap <Real>\n",
      "   X-dropoff value (in bits) for ungapped extensions\n",
      " -xdrop_gap <Real>\n",
      "   X-dropoff value (in bits) for preliminary gapped extensions\n",
      " -xdrop_gap_final <Real>\n",
      "   X-dropoff value (in bits) for final gapped alignment\n",
      " -window_size <Integer, >=0>\n",
      "   Multiple hits window size, use 0 to specify 1-hit algorithm\n",
      " -ungapped\n",
      "   Perform ungapped alignment only?\n",
      "\n",
      " *** Miscellaneous options\n",
      " -parse_deflines\n",
      "   Should the query and subject defline(s) be parsed?\n",
      " -num_threads <Integer, >=1>\n",
      "   Number of threads (CPUs) to use in the BLAST search\n",
      "   Default = `1'\n",
      "    * Incompatible with:  remote\n",
      " -remote\n",
      "   Execute search remotely?\n",
      "    * Incompatible with:  gilist, seqidlist, taxids, taxidlist,\n",
      "   negative_gilist, negative_seqidlist, negative_taxids, negative_taxidlist,\n",
      "   subject_loc, num_threads\n",
      " -use_sw_tback\n",
      "   Compute locally optimal Smith-Waterman alignments?\n",
      "\n"
     ]
    }
   ],
   "source": [
    "!{bldir}blastx -help"
   ]
  },
  {
   "cell_type": "code",
   "execution_count": 12,
   "metadata": {},
   "outputs": [
    {
     "name": "stdout",
     "output_type": "stream",
     "text": [
      "@M02215:3:000000000-B9JT7:1:1101:16761:1826 1:N:0:1\n",
      "GCTTCCATCTCTTACCTTTATTTGTGTTGTCTGTTCTGATTACGGCCTTCTTACTTCTTCTCTCTTTACCGGTTTTAGCGGGAGCGATTACGATGCTGTTAACGTATCGTAACTTCAATACCTCGTTCTTTGATCCGGCGGGCGGAGGTGACCCTATTTTTTTCCTTCACCTTTTTTGGTTCTTCGGCCATCCCCTTTTCTTTTCTTTATTTGATCGGAATTTCACACCTCTGTACTCCCGTCACCGTTGT\n",
      "+\n",
      "11>A>@1DB1@BA3A1BGG1FGH3D1B00BBG1FGGHB3FGBB00AAEGGHGBBGGGHHFGGGFHHHFEF//AEEGH0AA//>/?>/?G?F//?/?F1BFF2B/00BF/F00EGGG2>G2<<FE/FFFFGH12FFD0/<//-------9.0;9C9/:CFF099/900//99/;FFF@--9://;/-----:/-:---///9/://9/9//////;/----9////9//-9://///9//--99-9;--999\n",
      "@M02215:3:000000000-B9JT7:1:1101:11882:1895 1:N:0:1\n",
      "ATTTGTATGAAGTGTTTTTATTACTGTAATCTTACTTTTACTATCTCTACCTGTATTAGCTGGAGCTATCACAATATTGCTGACAGATCGAAATTTGAATACATCATTTTTTGACCCCACTGGAGGGGGTGATCCAATTTTATACCAACACTTATTCTGATTTTTCGGCCATCCCGAGGTCTAGAGCGCCAC\n",
      "+\n",
      ">AAA1DBD3331B1FGGGGAGGFGHFGB3FGGHHHHHHHHHHFHFHHHFHHHHHGHHHFFHF0CEFHHHHBFFFHFHHDGH1DGGBFHHEEF?GHH2EDGHFHHHBGHHHHGEEDGGFGEHC000?@?CECAGHHHBHHHHFHGFGHHGEFHHGHHHHG2FGHHHH//CCCHHHHC.--<CGF0DCGC@CCC\n",
      "@M02215:3:000000000-B9JT7:1:1101:14195:1895 1:N:0:1\n",
      "GCCCACGCATGTTAAAGATAGTGGTAATAAAGTTAATCGCCCCTAAAATACTGCTCGCTCCAGATAAATGTAAACTGAAAATAGCTAAATCAACAGCGCCACCAGAATGAGCTAAAATTCCTGACAAAGGGGGATAAACTGTTCATCCTGTTCCATGCGAAAC\n"
     ]
    }
   ],
   "source": [
    "!head ../data/Good-lib1_S1_L001_R1_001.fastq"
   ]
  },
  {
   "cell_type": "markdown",
   "metadata": {},
   "source": [
    "## Need to properly install bioawk and call the complete path?"
   ]
  },
  {
   "cell_type": "code",
   "execution_count": 78,
   "metadata": {},
   "outputs": [
    {
     "name": "stdout",
     "output_type": "stream",
     "text": [
      "usage: /usr/local/Cellar/bioawk/1.0/bin/bioawk [-F fs] [-v var=value] [-c fmt] [-tH] [-f progfile | 'prog'] [file ...]\n"
     ]
    }
   ],
   "source": [
    "!/usr/local/Cellar/bioawk/1.0/bin/bioawk"
   ]
  },
  {
   "cell_type": "code",
   "execution_count": 79,
   "metadata": {},
   "outputs": [],
   "source": [
    "bioawk='/usr/local/Cellar/bioawk/1.0/bin/bioawk'"
   ]
  },
  {
   "cell_type": "code",
   "execution_count": 80,
   "metadata": {},
   "outputs": [
    {
     "name": "stdout",
     "output_type": "stream",
     "text": [
      "usage: /usr/local/Cellar/bioawk/1.0/bin/bioawk [-F fs] [-v var=value] [-c fmt] [-tH] [-f progfile | 'prog'] [file ...]\n"
     ]
    }
   ],
   "source": [
    "!{bioawk}"
   ]
  },
  {
   "cell_type": "code",
   "execution_count": 81,
   "metadata": {},
   "outputs": [
    {
     "name": "stdout",
     "output_type": "stream",
     "text": [
      "/bin/bash: {bioawk}: command not found\n"
     ]
    }
   ],
   "source": [
    "!{bioawk} -c fastx '{print \">\"$name\"\\n\"$seq}' input.fastq > output.fasta\n"
   ]
  },
  {
   "cell_type": "markdown",
   "metadata": {},
   "source": [
    "The following seqtk command worked in the terminal to convert to fasta:"
   ]
  },
  {
   "cell_type": "code",
   "execution_count": 82,
   "metadata": {},
   "outputs": [
    {
     "name": "stdout",
     "output_type": "stream",
     "text": [
      "/bin/bash: seqtk: command not found\n"
     ]
    }
   ],
   "source": [
    "#!seqtk seq -a ../data/Good-lib1_S1_L001_R1_001.fastq > ../data/TEST-Good-lib1_S1_L001_R1_001.fasta"
   ]
  },
  {
   "cell_type": "code",
   "execution_count": 83,
   "metadata": {},
   "outputs": [
    {
     "name": "stdout",
     "output_type": "stream",
     "text": [
      "env: seqtk=/home/samb/programs/seqtk_1.3-r115/seqtk\n"
     ]
    }
   ],
   "source": [
    "#%env seqtk=/Users/dishajpatel/Applications/bioinformatics/"
   ]
  },
  {
   "cell_type": "code",
   "execution_count": null,
   "metadata": {},
   "outputs": [],
   "source": []
  }
 ],
 "metadata": {
  "kernelspec": {
   "display_name": "Python 3",
   "language": "python",
   "name": "python3"
  },
  "language_info": {
   "codemirror_mode": {
    "name": "ipython",
    "version": 3
   },
   "file_extension": ".py",
   "mimetype": "text/x-python",
   "name": "python",
   "nbconvert_exporter": "python",
   "pygments_lexer": "ipython3",
   "version": "3.8.5"
  }
 },
 "nbformat": 4,
 "nbformat_minor": 4
}
