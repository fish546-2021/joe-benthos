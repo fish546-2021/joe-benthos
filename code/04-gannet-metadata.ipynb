{
 "cells": [
  {
   "cell_type": "markdown",
   "metadata": {},
   "source": [
    "# download fastqs from ganet, unzip and run MultiQC?"
   ]
  },
  {
   "cell_type": "code",
   "execution_count": 3,
   "metadata": {},
   "outputs": [
    {
     "name": "stdout",
     "output_type": "stream",
     "text": [
      "casowari@gannet.fish.washington.edu's password: \n"
     ]
    }
   ],
   "source": [
    "#get the zipped fastqs from Gannet@fish.washington.edu\n",
    "#need password so can't complete in jupyter\n",
    "!scp casowari@Gannet.fish.washington.edu:/var/services/homes/casowari/Run_1_20170803-20210219T211100Z-002.zip \\\n",
    "!../data/Run_1_20170803-20210219T211100Z-002.zip"
   ]
  },
  {
   "cell_type": "code",
   "execution_count": 1,
   "metadata": {},
   "outputs": [
    {
     "name": "stdout",
     "output_type": "stream",
     "text": [
      "/Users/dishajpatel/Documents/GitHub/joe-benthos/code\n"
     ]
    }
   ],
   "source": [
    "#should be in the code directory of my project\n",
    "!pwd"
   ]
  },
  {
   "cell_type": "code",
   "execution_count": 2,
   "metadata": {},
   "outputs": [
    {
     "name": "stdout",
     "output_type": "stream",
     "text": [
      "\u001b[31mGood-lib1_S1_L001_R1_001.fastq\u001b[m\u001b[m          \u001b[31mRun_1_20170803-20210219T211100Z-002.zip\u001b[m\u001b[m\n",
      "\u001b[31mGood-lib1_S1_L001_R1_001.fastq.gz\u001b[m\u001b[m\n"
     ]
    }
   ],
   "source": [
    "#what's in the copied data folder?\n",
    "!ls ../data/casowari"
   ]
  },
  {
   "cell_type": "code",
   "execution_count": 63,
   "metadata": {},
   "outputs": [
    {
     "name": "stdout",
     "output_type": "stream",
     "text": [
      "Archive:  ../data/casowari/Run_1_20170803-20210219T211100Z-002.zip\n",
      "  inflating: ../data/Run_1_20170803/Good-lib2_S2_L001_R1_001.fastq.gz  \n",
      "  inflating: ../data/Run_1_20170803/Good-lib1_S1_L001_R1_001.fastq.gz  \n",
      "  inflating: ../data/Run_1_20170803/Good-lib6_S6_L001_R1_001.fastq.gz  \n",
      "  inflating: ../data/Run_1_20170803/Good-lib9_S7_L001_R1_001.fastq.gz  \n",
      "  inflating: ../data/Run_1_20170803/Good-lib5_S5_L001_R2_001.fastq.gz  \n"
     ]
    }
   ],
   "source": [
    "#find all zips from cloned casowari folder and unzip them to ../data\n",
    "#TODO where are the other 8 fastqs?? lost in google drive zip step? \n",
    "!find ../data/casowari -name \"*.zip\" | xargs echo | xargs unzip -d ../data"
   ]
  },
  {
   "cell_type": "code",
   "execution_count": 64,
   "metadata": {},
   "outputs": [],
   "source": [
    "#unzip the files from Run 1 \n",
    "!find ../data/Run_1_20170803/ -name \"*.fastq.gz\" | xargs gunzip"
   ]
  },
  {
   "cell_type": "code",
   "execution_count": 7,
   "metadata": {},
   "outputs": [
    {
     "name": "stdout",
     "output_type": "stream",
     "text": [
      "Analysis complete for Good-lib1_S1_L001_R1_001.fastq\n",
      "Analysis complete for Good-lib9_S7_L001_R1_001.fastq\n",
      "Analysis complete for Good-lib6_S6_L001_R1_001.fastq\n",
      "Analysis complete for Good-lib2_S2_L001_R1_001.fastq\n",
      "Analysis complete for Good-lib5_S5_L001_R2_001.fastq\n"
     ]
    },
    {
     "name": "stderr",
     "output_type": "stream",
     "text": [
      "Started analysis of Good-lib1_S1_L001_R1_001.fastq\n",
      "Approx 5% complete for Good-lib1_S1_L001_R1_001.fastq\n",
      "Approx 10% complete for Good-lib1_S1_L001_R1_001.fastq\n",
      "Approx 15% complete for Good-lib1_S1_L001_R1_001.fastq\n",
      "Approx 20% complete for Good-lib1_S1_L001_R1_001.fastq\n",
      "Approx 25% complete for Good-lib1_S1_L001_R1_001.fastq\n",
      "Approx 30% complete for Good-lib1_S1_L001_R1_001.fastq\n",
      "Approx 35% complete for Good-lib1_S1_L001_R1_001.fastq\n",
      "Approx 40% complete for Good-lib1_S1_L001_R1_001.fastq\n",
      "Approx 45% complete for Good-lib1_S1_L001_R1_001.fastq\n",
      "Approx 50% complete for Good-lib1_S1_L001_R1_001.fastq\n",
      "Approx 55% complete for Good-lib1_S1_L001_R1_001.fastq\n",
      "Approx 60% complete for Good-lib1_S1_L001_R1_001.fastq\n",
      "Approx 65% complete for Good-lib1_S1_L001_R1_001.fastq\n",
      "Approx 70% complete for Good-lib1_S1_L001_R1_001.fastq\n",
      "Approx 75% complete for Good-lib1_S1_L001_R1_001.fastq\n",
      "Approx 80% complete for Good-lib1_S1_L001_R1_001.fastq\n",
      "Approx 85% complete for Good-lib1_S1_L001_R1_001.fastq\n",
      "Approx 90% complete for Good-lib1_S1_L001_R1_001.fastq\n",
      "Approx 95% complete for Good-lib1_S1_L001_R1_001.fastq\n",
      "Started analysis of Good-lib9_S7_L001_R1_001.fastq\n",
      "Approx 5% complete for Good-lib9_S7_L001_R1_001.fastq\n",
      "Approx 10% complete for Good-lib9_S7_L001_R1_001.fastq\n",
      "Approx 15% complete for Good-lib9_S7_L001_R1_001.fastq\n",
      "Approx 20% complete for Good-lib9_S7_L001_R1_001.fastq\n",
      "Approx 25% complete for Good-lib9_S7_L001_R1_001.fastq\n",
      "Approx 30% complete for Good-lib9_S7_L001_R1_001.fastq\n",
      "Approx 35% complete for Good-lib9_S7_L001_R1_001.fastq\n",
      "Approx 40% complete for Good-lib9_S7_L001_R1_001.fastq\n",
      "Approx 45% complete for Good-lib9_S7_L001_R1_001.fastq\n",
      "Approx 50% complete for Good-lib9_S7_L001_R1_001.fastq\n",
      "Approx 55% complete for Good-lib9_S7_L001_R1_001.fastq\n",
      "Approx 60% complete for Good-lib9_S7_L001_R1_001.fastq\n",
      "Approx 65% complete for Good-lib9_S7_L001_R1_001.fastq\n",
      "Approx 70% complete for Good-lib9_S7_L001_R1_001.fastq\n",
      "Approx 75% complete for Good-lib9_S7_L001_R1_001.fastq\n",
      "Approx 80% complete for Good-lib9_S7_L001_R1_001.fastq\n",
      "Approx 85% complete for Good-lib9_S7_L001_R1_001.fastq\n",
      "Approx 90% complete for Good-lib9_S7_L001_R1_001.fastq\n",
      "Approx 95% complete for Good-lib9_S7_L001_R1_001.fastq\n",
      "Started analysis of Good-lib6_S6_L001_R1_001.fastq\n",
      "Approx 5% complete for Good-lib6_S6_L001_R1_001.fastq\n",
      "Approx 10% complete for Good-lib6_S6_L001_R1_001.fastq\n",
      "Approx 15% complete for Good-lib6_S6_L001_R1_001.fastq\n",
      "Approx 20% complete for Good-lib6_S6_L001_R1_001.fastq\n",
      "Approx 25% complete for Good-lib6_S6_L001_R1_001.fastq\n",
      "Approx 30% complete for Good-lib6_S6_L001_R1_001.fastq\n",
      "Approx 35% complete for Good-lib6_S6_L001_R1_001.fastq\n",
      "Approx 40% complete for Good-lib6_S6_L001_R1_001.fastq\n",
      "Approx 45% complete for Good-lib6_S6_L001_R1_001.fastq\n",
      "Approx 50% complete for Good-lib6_S6_L001_R1_001.fastq\n",
      "Approx 55% complete for Good-lib6_S6_L001_R1_001.fastq\n",
      "Approx 60% complete for Good-lib6_S6_L001_R1_001.fastq\n",
      "Approx 65% complete for Good-lib6_S6_L001_R1_001.fastq\n",
      "Approx 70% complete for Good-lib6_S6_L001_R1_001.fastq\n",
      "Approx 75% complete for Good-lib6_S6_L001_R1_001.fastq\n",
      "Approx 80% complete for Good-lib6_S6_L001_R1_001.fastq\n",
      "Approx 85% complete for Good-lib6_S6_L001_R1_001.fastq\n",
      "Approx 90% complete for Good-lib6_S6_L001_R1_001.fastq\n",
      "Approx 95% complete for Good-lib6_S6_L001_R1_001.fastq\n",
      "Started analysis of Good-lib2_S2_L001_R1_001.fastq\n",
      "Approx 5% complete for Good-lib2_S2_L001_R1_001.fastq\n",
      "Approx 10% complete for Good-lib2_S2_L001_R1_001.fastq\n",
      "Approx 15% complete for Good-lib2_S2_L001_R1_001.fastq\n",
      "Approx 20% complete for Good-lib2_S2_L001_R1_001.fastq\n",
      "Approx 25% complete for Good-lib2_S2_L001_R1_001.fastq\n",
      "Approx 30% complete for Good-lib2_S2_L001_R1_001.fastq\n",
      "Approx 35% complete for Good-lib2_S2_L001_R1_001.fastq\n",
      "Approx 40% complete for Good-lib2_S2_L001_R1_001.fastq\n",
      "Approx 45% complete for Good-lib2_S2_L001_R1_001.fastq\n",
      "Approx 50% complete for Good-lib2_S2_L001_R1_001.fastq\n",
      "Approx 55% complete for Good-lib2_S2_L001_R1_001.fastq\n",
      "Approx 60% complete for Good-lib2_S2_L001_R1_001.fastq\n",
      "Approx 65% complete for Good-lib2_S2_L001_R1_001.fastq\n",
      "Approx 70% complete for Good-lib2_S2_L001_R1_001.fastq\n",
      "Approx 75% complete for Good-lib2_S2_L001_R1_001.fastq\n",
      "Approx 80% complete for Good-lib2_S2_L001_R1_001.fastq\n",
      "Approx 85% complete for Good-lib2_S2_L001_R1_001.fastq\n",
      "Approx 90% complete for Good-lib2_S2_L001_R1_001.fastq\n",
      "Approx 95% complete for Good-lib2_S2_L001_R1_001.fastq\n",
      "Started analysis of Good-lib5_S5_L001_R2_001.fastq\n",
      "Approx 5% complete for Good-lib5_S5_L001_R2_001.fastq\n",
      "Approx 10% complete for Good-lib5_S5_L001_R2_001.fastq\n",
      "Approx 15% complete for Good-lib5_S5_L001_R2_001.fastq\n",
      "Approx 20% complete for Good-lib5_S5_L001_R2_001.fastq\n",
      "Approx 25% complete for Good-lib5_S5_L001_R2_001.fastq\n",
      "Approx 30% complete for Good-lib5_S5_L001_R2_001.fastq\n",
      "Approx 35% complete for Good-lib5_S5_L001_R2_001.fastq\n",
      "Approx 40% complete for Good-lib5_S5_L001_R2_001.fastq\n",
      "Approx 45% complete for Good-lib5_S5_L001_R2_001.fastq\n",
      "Approx 50% complete for Good-lib5_S5_L001_R2_001.fastq\n",
      "Approx 55% complete for Good-lib5_S5_L001_R2_001.fastq\n",
      "Approx 60% complete for Good-lib5_S5_L001_R2_001.fastq\n",
      "Approx 65% complete for Good-lib5_S5_L001_R2_001.fastq\n",
      "Approx 70% complete for Good-lib5_S5_L001_R2_001.fastq\n",
      "Approx 75% complete for Good-lib5_S5_L001_R2_001.fastq\n",
      "Approx 80% complete for Good-lib5_S5_L001_R2_001.fastq\n",
      "Approx 85% complete for Good-lib5_S5_L001_R2_001.fastq\n",
      "Approx 90% complete for Good-lib5_S5_L001_R2_001.fastq\n",
      "Approx 95% complete for Good-lib5_S5_L001_R2_001.fastq\n"
     ]
    }
   ],
   "source": [
    "%%bash\n",
    "find ../data/Run_1_20170803/ -name \"*.fastq\" | xargs \\\n",
    "/Applications/bioinformatics/FastQC/fastqc \\\n",
    "-o ../analysis/fastqc-out"
   ]
  },
  {
   "cell_type": "code",
   "execution_count": 8,
   "metadata": {},
   "outputs": [
    {
     "name": "stdout",
     "output_type": "stream",
     "text": [
      "Good-lib1_S1_L001_R1_001_fastqc.html Good-lib5_S5_L001_R2_001_fastqc.zip\n",
      "Good-lib1_S1_L001_R1_001_fastqc.zip  Good-lib6_S6_L001_R1_001_fastqc.html\n",
      "Good-lib2_S2_L001_R1_001_fastqc.html Good-lib6_S6_L001_R1_001_fastqc.zip\n",
      "Good-lib2_S2_L001_R1_001_fastqc.zip  Good-lib9_S7_L001_R1_001_fastqc.html\n",
      "Good-lib5_S5_L001_R2_001_fastqc.html Good-lib9_S7_L001_R1_001_fastqc.zip\n"
     ]
    }
   ],
   "source": [
    "#Where are my fastqc files?\n",
    "!ls ../analysis/fastqc-out/"
   ]
  },
  {
   "cell_type": "code",
   "execution_count": 18,
   "metadata": {},
   "outputs": [
    {
     "name": "stdout",
     "output_type": "stream",
     "text": [
      "/Users/dishajpatel/Documents/GitHub/joe-benthos/analysis/fastqc-out\n"
     ]
    },
    {
     "name": "stderr",
     "output_type": "stream",
     "text": [
      "[INFO   ]         multiqc : This is MultiQC v1.9\n",
      "[INFO   ]         multiqc : Template    : default\n",
      "[INFO   ]         multiqc : Searching   : /Users/dishajpatel/Documents/GitHub/joe-benthos/analysis/fastqc-out\n",
      "[INFO   ]          fastqc : Found 5 reports\n",
      "[INFO   ]         multiqc : Compressing plot data\n",
      "[INFO   ]         multiqc : Report      : multiqc_report.html\n",
      "[INFO   ]         multiqc : Data        : multiqc_data\n",
      "[INFO   ]         multiqc : MultiQC complete\n"
     ]
    }
   ],
   "source": [
    "%%bash\n",
    "#go to directory with fastqc output\n",
    "cd ../analysis/fastqc-out\n",
    "pwd\n",
    "multiqc ."
   ]
  },
  {
   "cell_type": "code",
   "execution_count": null,
   "metadata": {},
   "outputs": [],
   "source": []
  }
 ],
 "metadata": {
  "kernelspec": {
   "display_name": "Python 3",
   "language": "python",
   "name": "python3"
  },
  "language_info": {
   "codemirror_mode": {
    "name": "ipython",
    "version": 3
   },
   "file_extension": ".py",
   "mimetype": "text/x-python",
   "name": "python",
   "nbconvert_exporter": "python",
   "pygments_lexer": "ipython3",
   "version": "3.8.5"
  }
 },
 "nbformat": 4,
 "nbformat_minor": 4
}
