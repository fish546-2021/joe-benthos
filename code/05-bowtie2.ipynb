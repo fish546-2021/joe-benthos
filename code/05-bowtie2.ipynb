{
 "cells": [
  {
   "cell_type": "markdown",
   "metadata": {},
   "source": [
    "## Bowtie 2 allignment script"
   ]
  },
  {
   "cell_type": "code",
   "execution_count": 2,
   "metadata": {},
   "outputs": [
    {
     "name": "stdout",
     "output_type": "stream",
     "text": [
      "/Users/dishajpatel/Documents/GitHub/joe-benthos/code\n"
     ]
    }
   ],
   "source": [
    "#where am i?\n",
    "!pwd"
   ]
  },
  {
   "cell_type": "code",
   "execution_count": 4,
   "metadata": {},
   "outputs": [
    {
     "name": "stdout",
     "output_type": "stream",
     "text": [
      "Good-lib1_S1_L001_R1_001.fasta     Good-lib5_S5_L001_R2_001.fastq\n",
      "Good-lib1_S1_L001_R1_001.fasta.fai Good-lib6_S6_L001_R1_001.fastq\n",
      "Good-lib1_S1_L001_R1_001.fastq     Good-lib9_S7_L001_R1_001.fastq\n",
      "Good-lib2_S2_L001_R1_001.fastq     metadata.csv\n"
     ]
    }
   ],
   "source": [
    "!ls ../data/Run_1_20170803/"
   ]
  },
  {
   "cell_type": "code",
   "execution_count": 5,
   "metadata": {},
   "outputs": [
    {
     "name": "stdout",
     "output_type": "stream",
     "text": [
      "\u001b[34mRun_1_20170803\u001b[m\u001b[m                \u001b[34mcasowari\u001b[m\u001b[m\n",
      "bathycoccus-prasinos-MT.fasta\n"
     ]
    }
   ],
   "source": [
    "!ls ../data"
   ]
  },
  {
   "cell_type": "code",
   "execution_count": 7,
   "metadata": {
    "collapsed": true,
    "jupyter": {
     "outputs_hidden": true
    }
   },
   "outputs": [
    {
     "name": "stdout",
     "output_type": "stream",
     "text": [
      "Settings:\n",
      "  Output files: \"../data/bathycoccus-prasino-MT-index.*.bt2\"\n",
      "  Line rate: 6 (line is 64 bytes)\n",
      "  Lines per side: 1 (side is 64 bytes)\n",
      "  Offset rate: 4 (one in 16)\n",
      "  FTable chars: 10\n",
      "  Strings: unpacked\n",
      "  Max bucket size: default\n",
      "  Max bucket size, sqrt multiplier: default\n",
      "  Max bucket size, len divisor: 4\n",
      "  Difference-cover sample period: 1024\n",
      "  Endianness: little\n",
      "  Actual local endianness: little\n",
      "  Sanity checking: disabled\n",
      "  Assertions: disabled\n",
      "  Random seed: 0\n",
      "  Sizeofs: void*:8, int:4, long:8, size_t:8\n",
      "Input files DNA, FASTA:\n",
      "  ../data/bathycoccus-prasinos-MT.fasta\n",
      "Building a SMALL index\n",
      "Reading reference sizes\n",
      "  Time reading reference sizes: 00:00:00\n",
      "Calculating joined length\n",
      "Writing header\n",
      "Reserving space for joined string\n",
      "Joining reference sequences\n",
      "  Time to join reference sequences: 00:00:00\n",
      "bmax according to bmaxDivN setting: 10903\n",
      "Using parameters --bmax 8178 --dcv 1024\n",
      "  Doing ahead-of-time memory usage test\n",
      "  Passed!  Constructing with these parameters: --bmax 8178 --dcv 1024\n",
      "Constructing suffix-array element generator\n",
      "Building DifferenceCoverSample\n",
      "  Building sPrime\n",
      "  Building sPrimeOrder\n",
      "  V-Sorting samples\n",
      "  V-Sorting samples time: 00:00:00\n",
      "  Allocating rank array\n",
      "  Ranking v-sort output\n",
      "  Ranking v-sort output time: 00:00:00\n",
      "  Invoking Larsson-Sadakane on ranks\n",
      "  Invoking Larsson-Sadakane on ranks time: 00:00:00\n",
      "  Sanity-checking and returning\n",
      "Building samples\n",
      "Reserving space for 12 sample suffixes\n",
      "Generating random suffixes\n",
      "QSorting 12 sample offsets, eliminating duplicates\n",
      "QSorting sample offsets, eliminating duplicates time: 00:00:00\n",
      "Multikey QSorting 12 samples\n",
      "  (Using difference cover)\n",
      "  Multikey QSorting samples time: 00:00:00\n",
      "Calculating bucket sizes\n",
      "Splitting and merging\n",
      "  Splitting and merging time: 00:00:00\n",
      "Avg bucket size: 43614 (target: 8177)\n",
      "Converting suffix-array elements to index image\n",
      "Allocating ftab, absorbFtab\n",
      "Entering Ebwt loop\n",
      "Getting block 1 of 1\n",
      "  No samples; assembling all-inclusive block\n",
      "  Sorting block of length 43614 for bucket 1\n",
      "  (Using difference cover)\n",
      "  Sorting block time: 00:00:00\n",
      "Returning block of 43615 for bucket 1\n",
      "Exited Ebwt loop\n",
      "fchr[A]: 0\n",
      "fchr[C]: 13548\n",
      "fchr[G]: 22374\n",
      "fchr[T]: 31041\n",
      "fchr[$]: 43614\n",
      "Exiting Ebwt::buildToDisk()\n",
      "Returning from initFromVector\n",
      "Wrote 4209121 bytes to primary EBWT file: ../data/bathycoccus-prasino-MT-index.1.bt2\n",
      "Wrote 10908 bytes to secondary EBWT file: ../data/bathycoccus-prasino-MT-index.2.bt2\n",
      "Re-opening _in1 and _in2 as input streams\n",
      "Returning from Ebwt constructor\n",
      "Headers:\n",
      "    len: 43614\n",
      "    bwtLen: 43615\n",
      "    sz: 10904\n",
      "    bwtSz: 10904\n",
      "    lineRate: 6\n",
      "    offRate: 4\n",
      "    offMask: 0xfffffff0\n",
      "    ftabChars: 10\n",
      "    eftabLen: 20\n",
      "    eftabSz: 80\n",
      "    ftabLen: 1048577\n",
      "    ftabSz: 4194308\n",
      "    offsLen: 2726\n",
      "    offsSz: 10904\n",
      "    lineSz: 64\n",
      "    sideSz: 64\n",
      "    sideBwtSz: 48\n",
      "    sideBwtLen: 192\n",
      "    numSides: 228\n",
      "    numLines: 228\n",
      "    ebwtTotLen: 14592\n",
      "    ebwtTotSz: 14592\n",
      "    color: 0\n",
      "    reverse: 0\n",
      "Total time for call to driver() for forward index: 00:00:00\n",
      "Reading reference sizes\n",
      "  Time reading reference sizes: 00:00:00\n",
      "Calculating joined length\n",
      "Writing header\n",
      "Reserving space for joined string\n",
      "Joining reference sequences\n",
      "  Time to join reference sequences: 00:00:00\n",
      "  Time to reverse reference sequence: 00:00:00\n",
      "bmax according to bmaxDivN setting: 10903\n",
      "Using parameters --bmax 8178 --dcv 1024\n",
      "  Doing ahead-of-time memory usage test\n",
      "  Passed!  Constructing with these parameters: --bmax 8178 --dcv 1024\n",
      "Constructing suffix-array element generator\n",
      "Building DifferenceCoverSample\n",
      "  Building sPrime\n",
      "  Building sPrimeOrder\n",
      "  V-Sorting samples\n",
      "  V-Sorting samples time: 00:00:00\n",
      "  Allocating rank array\n",
      "  Ranking v-sort output\n",
      "  Ranking v-sort output time: 00:00:00\n",
      "  Invoking Larsson-Sadakane on ranks\n",
      "  Invoking Larsson-Sadakane on ranks time: 00:00:00\n",
      "  Sanity-checking and returning\n",
      "Building samples\n",
      "Reserving space for 12 sample suffixes\n",
      "Generating random suffixes\n",
      "QSorting 12 sample offsets, eliminating duplicates\n",
      "QSorting sample offsets, eliminating duplicates time: 00:00:00\n",
      "Multikey QSorting 12 samples\n",
      "  (Using difference cover)\n",
      "  Multikey QSorting samples time: 00:00:00\n",
      "Calculating bucket sizes\n",
      "Splitting and merging\n",
      "  Splitting and merging time: 00:00:00\n",
      "Avg bucket size: 43614 (target: 8177)\n",
      "Converting suffix-array elements to index image\n",
      "Allocating ftab, absorbFtab\n",
      "Entering Ebwt loop\n",
      "Getting block 1 of 1\n",
      "  No samples; assembling all-inclusive block\n",
      "  Sorting block of length 43614 for bucket 1\n",
      "  (Using difference cover)\n",
      "  Sorting block time: 00:00:00\n",
      "Returning block of 43615 for bucket 1\n",
      "Exited Ebwt loop\n",
      "fchr[A]: 0\n",
      "fchr[C]: 13548\n",
      "fchr[G]: 22374\n",
      "fchr[T]: 31041\n",
      "fchr[$]: 43614\n",
      "Exiting Ebwt::buildToDisk()\n",
      "Returning from initFromVector\n",
      "Wrote 4209121 bytes to primary EBWT file: ../data/bathycoccus-prasino-MT-index.rev.1.bt2\n",
      "Wrote 10908 bytes to secondary EBWT file: ../data/bathycoccus-prasino-MT-index.rev.2.bt2\n",
      "Re-opening _in1 and _in2 as input streams\n",
      "Returning from Ebwt constructor\n",
      "Headers:\n",
      "    len: 43614\n",
      "    bwtLen: 43615\n",
      "    sz: 10904\n",
      "    bwtSz: 10904\n",
      "    lineRate: 6\n",
      "    offRate: 4\n",
      "    offMask: 0xfffffff0\n",
      "    ftabChars: 10\n",
      "    eftabLen: 20\n",
      "    eftabSz: 80\n",
      "    ftabLen: 1048577\n",
      "    ftabSz: 4194308\n",
      "    offsLen: 2726\n",
      "    offsSz: 10904\n",
      "    lineSz: 64\n",
      "    sideSz: 64\n",
      "    sideBwtSz: 48\n",
      "    sideBwtLen: 192\n",
      "    numSides: 228\n",
      "    numLines: 228\n",
      "    ebwtTotLen: 14592\n",
      "    ebwtTotSz: 14592\n",
      "    color: 0\n",
      "    reverse: 1\n",
      "Total time for backward call to driver() for mirror index: 00:00:00\n"
     ]
    }
   ],
   "source": [
    "#index the reference \n",
    "!/Users/dishajpatel/opt/anaconda3/bin/bowtie2-build \\\n",
    "../data/bathycoccus-prasinos-MT.fasta \\\n",
    "../data/bathycoccus-prasino-MT-index"
   ]
  },
  {
   "cell_type": "code",
   "execution_count": 8,
   "metadata": {},
   "outputs": [
    {
     "name": "stdout",
     "output_type": "stream",
     "text": [
      "\u001b[34mRun_1_20170803\u001b[m\u001b[m                         bathycoccus-prasino-MT-index.rev.1.bt2\n",
      "bathycoccus-prasino-MT-index.1.bt2     bathycoccus-prasino-MT-index.rev.2.bt2\n",
      "bathycoccus-prasino-MT-index.2.bt2     bathycoccus-prasinos-MT.fasta\n",
      "bathycoccus-prasino-MT-index.3.bt2     \u001b[34mcasowari\u001b[m\u001b[m\n",
      "bathycoccus-prasino-MT-index.4.bt2\n"
     ]
    }
   ],
   "source": [
    "!ls ../data"
   ]
  },
  {
   "cell_type": "code",
   "execution_count": 27,
   "metadata": {},
   "outputs": [
    {
     "name": "stdout",
     "output_type": "stream",
     "text": [
      "2386309 reads; of these:\n",
      "  2386309 (100.00%) were unpaired; of these:\n",
      "    1715789 (71.90%) aligned 0 times\n",
      "    3 (0.00%) aligned exactly 1 time\n",
      "    670517 (28.10%) aligned >1 times\n",
      "28.10% overall alignment rate\n"
     ]
    }
   ],
   "source": [
    "#create sam allignment file using bowtie2\n",
    "!/Users/dishajpatel/opt/anaconda3/bin/bowtie2 \\\n",
    "-x ../data/bathycoccus-prasino-MT-index \\\n",
    "../data/Run_1_20170803/Good-lib1_S1_L001_R1_001.fastq \\\n",
    "-p 2 \\\n",
    "--very-fast \\\n",
    "-S ../analysis/Run_1_20170803.sam"
   ]
  },
  {
   "cell_type": "code",
   "execution_count": 28,
   "metadata": {},
   "outputs": [
    {
     "name": "stdout",
     "output_type": "stream",
     "text": [
      "@HD\tVN:1.0\tSO:unsorted\n",
      "@SQ\tSN:NC_023273.1\tLN:43614\n",
      "@PG\tID:bowtie2\tPN:bowtie2\tVN:2.4.2\tCL:\"/Users/dishajpatel/opt/anaconda3/bin/bowtie2-align-s --wrapper basic-0 -x ../data/bathycoccus-prasino-MT-index ../data/Run_1_20170803/Good-lib1_S1_L001_R1_001.fastq -p 2 --very-fast -S ../analysis/Run_1_20170803.sam\"\n",
      "M02215:3:000000000-B9JT7:1:1101:16761:1826\t4\t*\t0\t0\t*\t*\t0\t0\tGCTTCCATCTCTTACCTTTATTTGTGTTGTCTGTTCTGATTACGGCCTTCTTACTTCTTCTCTCTTTACCGGTTTTAGCGGGAGCGATTACGATGCTGTTAACGTATCGTAACTTCAATACCTCGTTCTTTGATCCGGCGGGCGGAGGTGACCCTATTTTTTTCCTTCACCTTTTTTGGTTCTTCGGCCATCCCCTTTTCTTTTCTTTATTTGATCGGAATTTCACACCTCTGTACTCCCGTCACCGTTGT\t11>A>@1DB1@BA3A1BGG1FGH3D1B00BBG1FGGHB3FGBB00AAEGGHGBBGGGHHFGGGFHHHFEF//AEEGH0AA//>/?>/?G?F//?/?F1BFF2B/00BF/F00EGGG2>G2<<FE/FFFFGH12FFD0/<//-------9.0;9C9/:CFF099/900//99/;FFF@--9://;/-----:/-:---///9/://9/9//////;/----9////9//-9://///9//--99-9;--999\tYT:Z:UU\n",
      "M02215:3:000000000-B9JT7:1:1101:11882:1895\t4\t*\t0\t0\t*\t*\t0\t0\tATTTGTATGAAGTGTTTTTATTACTGTAATCTTACTTTTACTATCTCTACCTGTATTAGCTGGAGCTATCACAATATTGCTGACAGATCGAAATTTGAATACATCATTTTTTGACCCCACTGGAGGGGGTGATCCAATTTTATACCAACACTTATTCTGATTTTTCGGCCATCCCGAGGTCTAGAGCGCCAC\t>AAA1DBD3331B1FGGGGAGGFGHFGB3FGGHHHHHHHHHHFHFHHHFHHHHHGHHHFFHF0CEFHHHHBFFFHFHHDGH1DGGBFHHEEF?GHH2EDGHFHHHBGHHHHGEEDGGFGEHC000?@?CECAGHHHBHHHHFHGFGHHGEFHHGHHHHG2FGHHHH//CCCHHHHC.--<CGF0DCGC@CCC\tYT:Z:UU\n"
     ]
    }
   ],
   "source": [
    "#lets take a look\n",
    "!head -5 ../analysis/Run_1_20170803.sam "
   ]
  },
  {
   "cell_type": "markdown",
   "metadata": {},
   "source": [
    "## Where is samtools"
   ]
  },
  {
   "cell_type": "code",
   "execution_count": 29,
   "metadata": {},
   "outputs": [
    {
     "name": "stdout",
     "output_type": "stream",
     "text": [
      "\n",
      "Program: samtools (Tools for alignments in the SAM format)\n",
      "Version: 1.11 (using htslib 1.11)\n",
      "\n",
      "Usage:   samtools <command> [options]\n",
      "\n",
      "Commands:\n",
      "  -- Indexing\n",
      "     dict           create a sequence dictionary file\n",
      "     faidx          index/extract FASTA\n",
      "     fqidx          index/extract FASTQ\n",
      "     index          index alignment\n",
      "\n",
      "  -- Editing\n",
      "     calmd          recalculate MD/NM tags and '=' bases\n",
      "     fixmate        fix mate information\n",
      "     reheader       replace BAM header\n",
      "     targetcut      cut fosmid regions (for fosmid pool only)\n",
      "     addreplacerg   adds or replaces RG tags\n",
      "     markdup        mark duplicates\n",
      "     ampliconclip   clip oligos from the end of reads\n",
      "\n",
      "  -- File operations\n",
      "     collate        shuffle and group alignments by name\n",
      "     cat            concatenate BAMs\n",
      "     merge          merge sorted alignments\n",
      "     mpileup        multi-way pileup\n",
      "     sort           sort alignment file\n",
      "     split          splits a file by read group\n",
      "     quickcheck     quickly check if SAM/BAM/CRAM file appears intact\n",
      "     fastq          converts a BAM to a FASTQ\n",
      "     fasta          converts a BAM to a FASTA\n",
      "\n",
      "  -- Statistics\n",
      "     bedcov         read depth per BED region\n",
      "     coverage       alignment depth and percent coverage\n",
      "     depth          compute the depth\n",
      "     flagstat       simple stats\n",
      "     idxstats       BAM index stats\n",
      "     phase          phase heterozygotes\n",
      "     stats          generate stats (former bamcheck)\n",
      "     ampliconstats  generate amplicon specific stats\n",
      "\n",
      "  -- Viewing\n",
      "     flags          explain BAM flags\n",
      "     tview          text alignment viewer\n",
      "     view           SAM<->BAM<->CRAM conversion\n",
      "     depad          convert padded BAM to unpadded BAM\n",
      "\n"
     ]
    }
   ],
   "source": [
    "!/usr/local/bin/samtools"
   ]
  },
  {
   "cell_type": "code",
   "execution_count": 30,
   "metadata": {},
   "outputs": [],
   "source": [
    "#convert sam to bam\n",
    "!/usr/local/bin/samtools \\\n",
    "view -S -b ../analysis/Run_1_20170803.sam \\\n",
    "> ../analysis/Run_1_20170803.bam"
   ]
  },
  {
   "cell_type": "code",
   "execution_count": 31,
   "metadata": {},
   "outputs": [
    {
     "name": "stdout",
     "output_type": "stream",
     "text": [
      "[bam_sort_core] merging from 1 files and 1 in-memory blocks...\n"
     ]
    }
   ],
   "source": [
    "#sort bam file\n",
    "!/usr/local/bin/samtools \\\n",
    "sort ../analysis/Run_1_20170803.bam \\\n",
    "-o ../analysis/Run_1_20170803.sorted.bam"
   ]
  },
  {
   "cell_type": "code",
   "execution_count": 32,
   "metadata": {},
   "outputs": [],
   "source": [
    "#create index file\n",
    "!/usr/local/bin/samtools \\\n",
    "index ../analysis/Run_1_20170803.sorted.bam \\\n",
    "> ../analysis/Run_1_20170803.bai"
   ]
  },
  {
   "cell_type": "code",
   "execution_count": null,
   "metadata": {},
   "outputs": [],
   "source": [
    "#index file corrupted :( "
   ]
  }
 ],
 "metadata": {
  "kernelspec": {
   "display_name": "Python 3",
   "language": "python",
   "name": "python3"
  },
  "language_info": {
   "codemirror_mode": {
    "name": "ipython",
    "version": 3
   },
   "file_extension": ".py",
   "mimetype": "text/x-python",
   "name": "python",
   "nbconvert_exporter": "python",
   "pygments_lexer": "ipython3",
   "version": "3.8.5"
  }
 },
 "nbformat": 4,
 "nbformat_minor": 4
}
