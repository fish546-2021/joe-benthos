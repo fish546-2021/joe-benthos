{
 "cells": [
  {
   "cell_type": "markdown",
   "metadata": {},
   "source": [
    "## Bowtie 2 allignment script"
   ]
  },
  {
   "cell_type": "code",
   "execution_count": 2,
   "metadata": {},
   "outputs": [
    {
     "name": "stdout",
     "output_type": "stream",
     "text": [
      "/Users/dishajpatel/Documents/GitHub/joe-benthos/code\n"
     ]
    }
   ],
   "source": [
    "#where am i?\n",
    "!pwd"
   ]
  },
  {
   "cell_type": "code",
   "execution_count": 4,
   "metadata": {},
   "outputs": [
    {
     "name": "stdout",
     "output_type": "stream",
     "text": [
      "Good-lib1_S1_L001_R1_001.fasta     Good-lib5_S5_L001_R2_001.fastq\n",
      "Good-lib1_S1_L001_R1_001.fasta.fai Good-lib6_S6_L001_R1_001.fastq\n",
      "Good-lib1_S1_L001_R1_001.fastq     Good-lib9_S7_L001_R1_001.fastq\n",
      "Good-lib2_S2_L001_R1_001.fastq     metadata.csv\n"
     ]
    }
   ],
   "source": [
    "!ls ../data/Run_1_20170803/"
   ]
  },
  {
   "cell_type": "code",
   "execution_count": 5,
   "metadata": {},
   "outputs": [
    {
     "name": "stdout",
     "output_type": "stream",
     "text": [
      "\u001b[34mRun_1_20170803\u001b[m\u001b[m                \u001b[34mcasowari\u001b[m\u001b[m\n",
      "bathycoccus-prasinos-MT.fasta\n"
     ]
    }
   ],
   "source": [
    "!ls ../data"
   ]
  },
  {
   "cell_type": "code",
   "execution_count": 7,
   "metadata": {
    "collapsed": true,
    "jupyter": {
     "outputs_hidden": true
    }
   },
   "outputs": [
    {
     "name": "stdout",
     "output_type": "stream",
     "text": [
      "Settings:\n",
      "  Output files: \"../data/bathycoccus-prasino-MT-index.*.bt2\"\n",
      "  Line rate: 6 (line is 64 bytes)\n",
      "  Lines per side: 1 (side is 64 bytes)\n",
      "  Offset rate: 4 (one in 16)\n",
      "  FTable chars: 10\n",
      "  Strings: unpacked\n",
      "  Max bucket size: default\n",
      "  Max bucket size, sqrt multiplier: default\n",
      "  Max bucket size, len divisor: 4\n",
      "  Difference-cover sample period: 1024\n",
      "  Endianness: little\n",
      "  Actual local endianness: little\n",
      "  Sanity checking: disabled\n",
      "  Assertions: disabled\n",
      "  Random seed: 0\n",
      "  Sizeofs: void*:8, int:4, long:8, size_t:8\n",
      "Input files DNA, FASTA:\n",
      "  ../data/bathycoccus-prasinos-MT.fasta\n",
      "Building a SMALL index\n",
      "Reading reference sizes\n",
      "  Time reading reference sizes: 00:00:00\n",
      "Calculating joined length\n",
      "Writing header\n",
      "Reserving space for joined string\n",
      "Joining reference sequences\n",
      "  Time to join reference sequences: 00:00:00\n",
      "bmax according to bmaxDivN setting: 10903\n",
      "Using parameters --bmax 8178 --dcv 1024\n",
      "  Doing ahead-of-time memory usage test\n",
      "  Passed!  Constructing with these parameters: --bmax 8178 --dcv 1024\n",
      "Constructing suffix-array element generator\n",
      "Building DifferenceCoverSample\n",
      "  Building sPrime\n",
      "  Building sPrimeOrder\n",
      "  V-Sorting samples\n",
      "  V-Sorting samples time: 00:00:00\n",
      "  Allocating rank array\n",
      "  Ranking v-sort output\n",
      "  Ranking v-sort output time: 00:00:00\n",
      "  Invoking Larsson-Sadakane on ranks\n",
      "  Invoking Larsson-Sadakane on ranks time: 00:00:00\n",
      "  Sanity-checking and returning\n",
      "Building samples\n",
      "Reserving space for 12 sample suffixes\n",
      "Generating random suffixes\n",
      "QSorting 12 sample offsets, eliminating duplicates\n",
      "QSorting sample offsets, eliminating duplicates time: 00:00:00\n",
      "Multikey QSorting 12 samples\n",
      "  (Using difference cover)\n",
      "  Multikey QSorting samples time: 00:00:00\n",
      "Calculating bucket sizes\n",
      "Splitting and merging\n",
      "  Splitting and merging time: 00:00:00\n",
      "Avg bucket size: 43614 (target: 8177)\n",
      "Converting suffix-array elements to index image\n",
      "Allocating ftab, absorbFtab\n",
      "Entering Ebwt loop\n",
      "Getting block 1 of 1\n",
      "  No samples; assembling all-inclusive block\n",
      "  Sorting block of length 43614 for bucket 1\n",
      "  (Using difference cover)\n",
      "  Sorting block time: 00:00:00\n",
      "Returning block of 43615 for bucket 1\n",
      "Exited Ebwt loop\n",
      "fchr[A]: 0\n",
      "fchr[C]: 13548\n",
      "fchr[G]: 22374\n",
      "fchr[T]: 31041\n",
      "fchr[$]: 43614\n",
      "Exiting Ebwt::buildToDisk()\n",
      "Returning from initFromVector\n",
      "Wrote 4209121 bytes to primary EBWT file: ../data/bathycoccus-prasino-MT-index.1.bt2\n",
      "Wrote 10908 bytes to secondary EBWT file: ../data/bathycoccus-prasino-MT-index.2.bt2\n",
      "Re-opening _in1 and _in2 as input streams\n",
      "Returning from Ebwt constructor\n",
      "Headers:\n",
      "    len: 43614\n",
      "    bwtLen: 43615\n",
      "    sz: 10904\n",
      "    bwtSz: 10904\n",
      "    lineRate: 6\n",
      "    offRate: 4\n",
      "    offMask: 0xfffffff0\n",
      "    ftabChars: 10\n",
      "    eftabLen: 20\n",
      "    eftabSz: 80\n",
      "    ftabLen: 1048577\n",
      "    ftabSz: 4194308\n",
      "    offsLen: 2726\n",
      "    offsSz: 10904\n",
      "    lineSz: 64\n",
      "    sideSz: 64\n",
      "    sideBwtSz: 48\n",
      "    sideBwtLen: 192\n",
      "    numSides: 228\n",
      "    numLines: 228\n",
      "    ebwtTotLen: 14592\n",
      "    ebwtTotSz: 14592\n",
      "    color: 0\n",
      "    reverse: 0\n",
      "Total time for call to driver() for forward index: 00:00:00\n",
      "Reading reference sizes\n",
      "  Time reading reference sizes: 00:00:00\n",
      "Calculating joined length\n",
      "Writing header\n",
      "Reserving space for joined string\n",
      "Joining reference sequences\n",
      "  Time to join reference sequences: 00:00:00\n",
      "  Time to reverse reference sequence: 00:00:00\n",
      "bmax according to bmaxDivN setting: 10903\n",
      "Using parameters --bmax 8178 --dcv 1024\n",
      "  Doing ahead-of-time memory usage test\n",
      "  Passed!  Constructing with these parameters: --bmax 8178 --dcv 1024\n",
      "Constructing suffix-array element generator\n",
      "Building DifferenceCoverSample\n",
      "  Building sPrime\n",
      "  Building sPrimeOrder\n",
      "  V-Sorting samples\n",
      "  V-Sorting samples time: 00:00:00\n",
      "  Allocating rank array\n",
      "  Ranking v-sort output\n",
      "  Ranking v-sort output time: 00:00:00\n",
      "  Invoking Larsson-Sadakane on ranks\n",
      "  Invoking Larsson-Sadakane on ranks time: 00:00:00\n",
      "  Sanity-checking and returning\n",
      "Building samples\n",
      "Reserving space for 12 sample suffixes\n",
      "Generating random suffixes\n",
      "QSorting 12 sample offsets, eliminating duplicates\n",
      "QSorting sample offsets, eliminating duplicates time: 00:00:00\n",
      "Multikey QSorting 12 samples\n",
      "  (Using difference cover)\n",
      "  Multikey QSorting samples time: 00:00:00\n",
      "Calculating bucket sizes\n",
      "Splitting and merging\n",
      "  Splitting and merging time: 00:00:00\n",
      "Avg bucket size: 43614 (target: 8177)\n",
      "Converting suffix-array elements to index image\n",
      "Allocating ftab, absorbFtab\n",
      "Entering Ebwt loop\n",
      "Getting block 1 of 1\n",
      "  No samples; assembling all-inclusive block\n",
      "  Sorting block of length 43614 for bucket 1\n",
      "  (Using difference cover)\n",
      "  Sorting block time: 00:00:00\n",
      "Returning block of 43615 for bucket 1\n",
      "Exited Ebwt loop\n",
      "fchr[A]: 0\n",
      "fchr[C]: 13548\n",
      "fchr[G]: 22374\n",
      "fchr[T]: 31041\n",
      "fchr[$]: 43614\n",
      "Exiting Ebwt::buildToDisk()\n",
      "Returning from initFromVector\n",
      "Wrote 4209121 bytes to primary EBWT file: ../data/bathycoccus-prasino-MT-index.rev.1.bt2\n",
      "Wrote 10908 bytes to secondary EBWT file: ../data/bathycoccus-prasino-MT-index.rev.2.bt2\n",
      "Re-opening _in1 and _in2 as input streams\n",
      "Returning from Ebwt constructor\n",
      "Headers:\n",
      "    len: 43614\n",
      "    bwtLen: 43615\n",
      "    sz: 10904\n",
      "    bwtSz: 10904\n",
      "    lineRate: 6\n",
      "    offRate: 4\n",
      "    offMask: 0xfffffff0\n",
      "    ftabChars: 10\n",
      "    eftabLen: 20\n",
      "    eftabSz: 80\n",
      "    ftabLen: 1048577\n",
      "    ftabSz: 4194308\n",
      "    offsLen: 2726\n",
      "    offsSz: 10904\n",
      "    lineSz: 64\n",
      "    sideSz: 64\n",
      "    sideBwtSz: 48\n",
      "    sideBwtLen: 192\n",
      "    numSides: 228\n",
      "    numLines: 228\n",
      "    ebwtTotLen: 14592\n",
      "    ebwtTotSz: 14592\n",
      "    color: 0\n",
      "    reverse: 1\n",
      "Total time for backward call to driver() for mirror index: 00:00:00\n"
     ]
    }
   ],
   "source": [
    "#index the reference \n",
    "!/Users/dishajpatel/opt/anaconda3/bin/bowtie2-build \\\n",
    "../data/bathycoccus-prasinos-MT.fasta \\\n",
    "../data/bathycoccus-prasino-MT-index"
   ]
  },
  {
   "cell_type": "code",
   "execution_count": 8,
   "metadata": {},
   "outputs": [
    {
     "name": "stdout",
     "output_type": "stream",
     "text": [
      "\u001b[34mRun_1_20170803\u001b[m\u001b[m                         bathycoccus-prasino-MT-index.rev.1.bt2\n",
      "bathycoccus-prasino-MT-index.1.bt2     bathycoccus-prasino-MT-index.rev.2.bt2\n",
      "bathycoccus-prasino-MT-index.2.bt2     bathycoccus-prasinos-MT.fasta\n",
      "bathycoccus-prasino-MT-index.3.bt2     \u001b[34mcasowari\u001b[m\u001b[m\n",
      "bathycoccus-prasino-MT-index.4.bt2\n"
     ]
    }
   ],
   "source": [
    "!ls ../data"
   ]
  },
  {
   "cell_type": "code",
   "execution_count": 11,
   "metadata": {},
   "outputs": [
    {
     "name": "stdout",
     "output_type": "stream",
     "text": [
      "2386309 reads; of these:\n",
      "  2386309 (100.00%) were unpaired; of these:\n",
      "    1715789 (71.90%) aligned 0 times\n",
      "    3 (0.00%) aligned exactly 1 time\n",
      "    670517 (28.10%) aligned >1 times\n",
      "28.10% overall alignment rate\n"
     ]
    }
   ],
   "source": [
    "!/Users/dishajpatel/opt/anaconda3/bin/bowtie2 \\\n",
    "-x ../data/bathycoccus-prasino-MT-index \\\n",
    "../data/Run_1_20170803/Good-lib1_S1_L001_R1_001.fastq \\\n",
    "-p 2 \\\n",
    "--very-fast \\\n",
    "-S ../analysis/Run_1_20170803.sam"
   ]
  },
  {
   "cell_type": "code",
   "execution_count": 12,
   "metadata": {},
   "outputs": [
    {
     "name": "stdout",
     "output_type": "stream",
     "text": [
      "@HD\tVN:1.0\tSO:unsorted\n",
      "@SQ\tSN:NC_023273.1\tLN:43614\n",
      "@PG\tID:bowtie2\tPN:bowtie2\tVN:2.4.2\tCL:\"/Users/dishajpatel/opt/anaconda3/bin/bowtie2-align-s --wrapper basic-0 -x ../data/bathycoccus-prasino-MT-index ../data/Run_1_20170803/Good-lib1_S1_L001_R1_001.fastq -p 2 --very-fast -S ../analysis/Run_1_20170803.sam\"\n",
      "M02215:3:000000000-B9JT7:1:1101:13209:1942\t16\tNC_023273.1\t18548\t0\t242M1I8M\t*\t0\t0\tGCTAAAACCGGTAAAGAGAGAAGAAGTAAGAAGGCCGTAATCAGAACAGACCACACAAATAAAGGTAAGCGATGGAAGCCCAGACCAGGCCCACGCATGTTAAAGATAGTGGTAATAAAGTTAATCGCCCCTAAAATACTGCTCGCTCCAGATAAATGTAAACTGAAAATAGCTAAATCAACTGCACCACCAGAGTGGCTCGTAATATGACTTAGAGGGGGATAAACAGTTCATCCAGTACCATGCGAGAT\t9//FDD9-9/:/GGGGGGGGGFGGGEFGGGGGB?DEGGFFFBFFGGGHHHGFG/HFGHHGHHHHHGHHGGGHHHHHHHGGHHHHHGGHGGGGGGGHHHHHGHHHHHHHHHHHHHHHHHHHHGHGCGE?AGFHHHHHHHHGGGGGHHEHHHHHGHHHGHHHHHHHHHHHHHHHHHHHHGFHHGFHGGGHHHFHHHHHGGEEGHHHHGHHHHFHHHGGGGHFFHFHFHGFGFGFF4FFGFBD4AA3>4AAAA>\tAS:i:-60\tXS:i:-60\tXN:i:0\tXM:i:11\tXO:i:1\tXG:i:1\tNM:i:12\tMD:Z:218A2G5C2C5T2T2C2A0C0C1A0\tYT:Z:UU\n",
      "M02215:3:000000000-B9JT7:1:1101:13935:1942\t4\t*\t0\t0\t*\t*\t0\t0\tAACGCAGTGTAGACTTCGGGGTGGCCAAAGAACCAGAAGAGGTGTTGGTATAGTACGGGGTCTCCTCCTCCCGCGGGATCAAAGAATGTGGTATTGAGATTTCGGTCCGTGAGGAGCATGGTAATACCTGCAGCGAGTACTGGGAGTGATAGTAGTAGTAGGATGGCGGTGATTAGGACTGATCACACGAATAGAGGGGTTTGGTTTTGTGAAAGGGCTGGGGGTTTTATGTTAATGGCTGTTGTAATAA\tA1>1111>1D313BGGG110EE?EGFHCGFFEGHCFFEBGHHHHHGHFEEHHH22D/B//EEGHHHHHHHBFEG/EE?EGHHHHHHHEHHHHGHHHGHFGHHHG?FGGCHEEAGHGHEHHHGHHFHHHHHHHHEG-CGHHHFFEFACCGHHHGHHHGFHHHHHHHGHCGGGFGGFGFGGFGFFFGGGG@;AE.BB/9-@B@FFF--;AFF-//BFFAE?----;@@BEFFFBBB/999-BAABBBFBB//\tYT:Z:UU\n",
      "M02215:3:000000000-B9JT7:1:1101:11633:1943\t4\t*\t0\t0\t*\t*\t0\t0\tTCGCTTACCTTTATTTGTGTGGTCCGTTCTGATTACGGCCTTCTTACTTCTTCTCTCTTTACCGGTTTTAGCGGGAGCGATTACGATGCTGTTAACGGATCGTAACTTCAATACCTCGTTCTTTGATCCGGCGGGCGGAGGTGACCCTATTTTGTTCCAGCACCTTTTTTGCTTTTTCGGCCACCCCGAAGTCTATTCGAGCACATATCTTAAGAGCACACGTCTTAACTCCAGTCACCTATGTATCTCGT\tAA1>AA1CCFFF1FFGDGEGF1FFG?HHHGFBGGHHAEEEEGGHHFHHHHHHHHHHHHHHGHGECGGGGH0FA/>/>EEEHHGHGGHFEHFHHGGH/E?EGCHEHEHHHFHHHHHHHGHGHGHHBFHHFA/B/CCCC-A?A..0CFF9FGGGG0CG0B00;/CEFFFFF@-/;BFFFB---->EFF?--;9999/9//-/B--;F//;F//9//BFFFF-A--9--;BF/;F/9:;BBF//:/BB9/;9-;\tYT:Z:UU\n",
      "M02215:3:000000000-B9JT7:1:1101:19184:1950\t4\t*\t0\t0\t*\t*\t0\t0\tAAATGTATGGGTACAGGTTGAACTGTTTACCCTCCACTAAGTCATATTACTAGTCACTCAGGAGGTGCTGTAGATTTAGCTATTTTTAGTTTACACGTTTCAGGTGCAAGTAGTATTTTAGGTGCAATCAACTTTATTACTACCATCTTTAATATGCGTGGACCTGGATTATTAATGCATCGCTTACCTTTATTTGTATGGAGTGTTTTAATTACAGCGTTTTTACTTCTTCTC\tA1>A1FFFBF?FFFGCFGG1EDGHHHHHHHGHHHGHHHHGFHHHHHHHHHHHGHHHHHHHHGFFGGHHHHHHGHHHHHHHHHHHHHHHHHHHHHHHGHHHHHHHHHHHGHHHHHHHHHHGH1FGHHGHHHHHHHHHHHHHHHFHHHHHHHHHHHHHHGGEECHHHHGHHHHHHHHHHEHHHCEHHGHHHHHHHHHHHEHHEGHHHHHHHFFHHHHGHFGGGGGGHGHHGHHGHE\tYT:Z:UU\n",
      "M02215:3:000000000-B9JT7:1:1101:19518:1950\t4\t*\t0\t0\t*\t*\t0\t0\tTTGCTCGCAGGTACTGGATGAACTGTATATCCCCCTTTGTCAGGAATTTTAGCTCATTCTGGTGGCGCTGTCGATTTAGCTATTTTTAGCTTACATTTGGCGGGTATTTCGTCTATTTTAGGAGCTATAAATTTTATTGTAACTATTTTAAACATGCGTTGTCCTGGTATGACTGCTCATAGAACACCTTTATTTGTTTGGGCTGTTTTTATAACAGCTTTTTTACTTTTGTTATCACTTCCTGTTTTAGC\t>A11AD1>>>1B1BG3BBG11FGGHHHHHHFHHGGGHHFHHHFFGHHHHHHFHHHHHHHHFGHHGHCEGGGHGHGHGHHHHHHHHHHHHGHHGGHHHHDFHCGCECGHHHFHGHEHHHHHC11<GGHHHHGHHHH2GHBHFHGH1GGHHHHHHHHHFGGG?GHHHHHHHHCHGFFGHF0=GB0GHGHGHHHHHHH0GGHF.AGHGGGGGGEGFBFFBFGFGGGGGFFGGGGGGFFEFFFF/FFEFFFFFB/\tYT:Z:UU\n",
      "M02215:3:000000000-B9JT7:1:1101:16939:1950\t4\t*\t0\t0\t*\t*\t0\t0\tGTGGAACTGGTTGAACTGTTTACCCTCCTTTAAGTAGTACGATGGCTCATCATGGTGGTGCCGTAGATTTAGCGATCTTCAGTCTCCATGTTTCAGGTGCATCGTCGATCTTAGGTGCTGTAAATTTCATAACTACAATTTTTAATATGCGATGTCCAGGTATGACAATGCATAGAGTACCTTTATTTGTGTGGGCTGTTTTAATTACAGCTTTTCTTTTATTGTTGTCTTTACCTGTTTTGGCCGGTGCG\tAA3?3BCF44DF24FCGFGGGGHHHHHGHHHHHHHHHHHGEGHFGHHHHHHHHGFGHDGGHHGGGGEHHHHHHCEHGHHHHBGHHHHHHHHHHHHHFHFGHHHGHHG@FHHHHHEHHHHHHHG4GHHHHHHHHHGGHFHHHHHHHHHHHHGGHGHHHHHGHHHHHGHHHHHHHHHHHHHHHHHHGHHHEGHHA..CG?GHFHHHHHGDDFGHHHHHGHHHFHHBHHGFHHHHG0:GBGHHH.-9BG@G??-\tYT:Z:UU\n",
      "M02215:3:000000000-B9JT7:1:1101:15515:1952\t4\t*\t0\t0\t*\t*\t0\t0\tTACACAGCATAGACTTCGGGGTGGCCGAAGAATCAAAAAAGGTGCTGGTATAAAACGGGATCACCTCCACCTGCTGGATCAAAGAAAGCAGTATTGAAGTTGCGATCGGTTAATAGCATAGTAATCGCTCCTGCTAAAACAGGTAACGATAATAATAATAAAAATGCAGTAATTAAAACTGCCCAAACGAAAAGAGGAAGTCGGTGCATGGTTAAACCAGGTGCACGCATGTTAAAAATAGTAGTAATAA\tAAAAAF?ACF111FGGGF1A0ECCGHGGGGGHHHHHHHHGG?HFGHHHHHHHHHHH/BEGGGHHHHHHHHHHHHHHHFHHHHHHHHGGHHHHHHHFHHHHHGHGCHGGCGGGHHHDHHHHHHHHHHFFHHGHGHGHHHHHHGHHHHHGGHGGHHHHHHHHHHHHHHHHHFGHHHHGHHHHHHHHHGGHCGGCGFEBE?FGFF.A-.;9CF?FGGGGGGE.;FFFFFE<@BFFFFFFFB9/;BFFBFFFFB\tYT:Z:UU\n",
      "M02215:3:000000000-B9JT7:1:1101:17624:1952\t4\t*\t0\t0\t*\t*\t0\t0\tAGACTCGCATAGACCTCGGGGTGGCCGAAAAACCAAAACAAATGCTGATATAAGACAGGATCACCACCACCGTTCGGATCAAAGAAAGACGTATTAAAATTTCTATCTGTTAATAACATTGTAATAGCGCCAGCTAAAACAGGAAGTGATAACAAAAGTAAAAAAGCTGTTATAAAAACAGCCCAAACAAATAAAGGTGTTCTATGAGCAGTCATACCAGGACAACGCATGTTTAAAATAGTTACAATAA\tA11AAFADDA111EGFGA??0A00FEECEGGHEGHHHHHHHFHFHHHHHHHHHGEHBFFEGHCFHHHGHHGFHGHGGGGGHGHFGHHBBHGEHGHHHGHHHHHFFGHHDHHHHHFFHHHH1GHHHH2FCCGG@EH1GBDHEB/FH0?GGHHHBDGHFHHFFHHFC?GGF=GGGHGFHFCGGFAFHHHEFHGGEFF00;FF.;BFG0B0:B/9CFGBFGG0?EE/A?;@@AB9FFEFB/F/:/;::;FFB/\tYT:Z:UU\n",
      "M02215:3:000000000-B9JT7:1:1101:12637:1956\t4\t*\t0\t0\t*\t*\t0\t0\tAATCTACAGCACCTCCTGAGTGACTAGTAATATGACTTAGTGGGGGATATACAGTTCAACCAGTACCGAGCGCACA\tB?AABBFF4CCCGGGGGGGCGGHHHHGHHHHHHHHHHHHHHHHHGGGGHHHHHHHHHHHHHGHHHHHGEGGCGGGG\tYT:Z:UU\n",
      "M02215:3:000000000-B9JT7:1:1101:15803:1959\t4\t*\t0\t0\t*\t*\t0\t0\tAGGACACACTAGACCTCGGGGTGGCCGAAGAACCAGAAGAGGTGTTGGTATAAAACAGGGTCTCCCCCTCCGACAGGGTCGAAGAATGTGGTATTTAGATTTCGGTCTGTTAGTAGTATAGTAATTCCTGCTGCGAGAACTGGGATTGCCAGCACAAGTAGGCCAGAAGTAATTATGATTGATCAGACAAATAGGGGGACACGTTCTATGGTGTAGCCCTCATTGCGCATGTTATAAATTGTTGTTATAA\t>111>1CFAFF@EFGGGF?0EEEEGHA0/AEGHHHGFHFBGFHHHGHGEHHHHHHHGCHEHHHHHHGGGGGF?EGEGFHHGEGCEGGHHHGHHHHHHEHHHHHF@FGGHHHHHHHHHHHHHHHHHHHHHFHFFF@?@CGHGHHEHHHFHHFHGFHHHFHHHBHHAGFGB=CCFHFHHEHHFCFHBGCHFHHHFFF..-9@EEBFF/E009FFF-;BBFFFAAFFBFB@;99FFFFFFFFF/BFFFF/;/:\tYT:Z:UU\n",
      "M02215:3:000000000-B9JT7:1:1101:12285:1960\t4\t*\t0\t0\t*\t*\t0\t0\tGTGGCAGTGTAGACTTCGGGGTGGCCGAAGAACCAGAAGAGGTGTTGGTATAGGACGGGGTCTCCTCCTCCCGCGGGATCAAAGAATGTGGTATTGAGATTTCGGTCCGTGAGGAGCATGGTAATACCTGCAGCGAGTACTGGGAGTGATAGTAGTAGTAGGATGGCGGTGATTAGGACTGATCACACG\tAA1?A11C1BDDFFFFG1AEAE0EHHE0//AGCG0AGGF1GHGAG/C/AFEGDD1BE//@EGHHHHHHFFFGEEE@>/E/GHHDCFGGB21GGHHHHFGFGGF0/FAC?GGEFFBCHEHHHFG1GHHFHHGHHECG?AGFGHHEHG:.CG0:;CFC:;CGFHFCGCG?9;:.0;C90B/9EFFFFF0/@\tYT:Z:UU\n",
      "M02215:3:000000000-B9JT7:1:1101:16912:1961\t4\t*\t0\t0\t*\t*\t0\t0\tTCTTCGTCATAGACCTCGGGGTGGCCGAAAAATCAGAAAAGGTGTTGGTATAAAACTGGATCACCACCTCCTGAAGGATCAAAGAAAGTAGTATTGAAATTACGATCACAAAGTAACATAGTTATCGCACCGGCCAAAACAGGTAAAGACAACAATAAAAGAAAAGCTGTAATTAAAACAGCCCACACAAATAAAGGTACTCTATGCATTGTCATACCTGGACATCGCATATTAAAAATTGTAGTTATGA\tAAAAA1B>1C3B1AAFGEGG?EECGG?EGGG0FFHBGFCHHGFHHGHHEGGHHGFHHEBGHHAHHHHGHHHFFHHHGHFHHHHHHFHHGGGFHHHHHHEHBGGGEGGAHFHFBGFHHHFHGHHHHHHFGGCGCGCCCFHHHHA<GHHHHHHHHHHGHHHHHGHHHHHHHHHHHFHHHGHHEHHGGGGGFGHHGGFHGGGGFGGGGFGFGGBFGGGGFGGG?FGBFGGGGGFFFFFFFFFFFFFFFFFF/B\tYT:Z:UU\n",
      "M02215:3:000000000-B9JT7:1:1101:18684:1963\t4\t*\t0\t0\t*\t*\t0\t0\tAACGTCTCTTAGACCTCGGGATGGCCGAAAAATCAAAAAAGATGCTGGTATAAAACGGGATCACCTCCACCTGCTGGATCAAAGAAAGCAGTATTGAAGTTTCGATCGGTTAATAGCATAGTAATCGCTCCTGCTAAAACAGGTAACGATAATAATAATAAAAATGCAGTAATTAAAACTGCCCAAACGAAAAGAGGAAGTCGGTGCATGGTTAAACCAGGTGCACGCATGTTAAAAATAGTAGTAATAA\tA1AAAAFFFFF31FGGFFCEGECEHHGECEGFGHHGHHHGGFHHHHHHHHHGHFHHGFGGGGHHHHHHHHGHGHHHHGGHHHHHHHHHHHHHHGHHHHHHHHHGGHHGGGGGHHFHHHHHHHHGHHAFHHGHHHHHHGHHHGGFBHHGGHGGHHGHHHHHHHHHHFHHGFGHGHHHHHHHEHHGHHHECCGGGFFFG.GHHH?A@.A0;B.CFFGGGGGEEBBFFBFGGGFFFFFFFFF/FBFF/BFBF/\tYT:Z:UU\n",
      "M02215:3:000000000-B9JT7:1:1101:18119:1964\t4\t*\t0\t0\t*\t*\t0\t0\tCGTGCAGTGTAGACTTCGGGGTGGCCGAAAAACCAGAAGAGGTGTTGGTATAGGACGGGGTCTCCTCCTCCCGCGGGATCAAAGAATGTGGTATTAAGATTTCGGTCCGTGAGGAGCATGGTAATACCTGCAGCGAGTACTGGGAGTGATAGTAGTAGTAGGATGGCGGTGATTAGGACTGATCACACGAATAGAGGGGTTTGGTATTGTGAAAGGGCTGGGGGTTTTATGTTAATGGCTGTTGTAATAA\tA?AAA1DFBFFBFGGGGGCGGGGGHHGCGGGHGGHHHHHHHHHHHGHGGHHHHGHHGGGGGGHHHHHHHHHGGCGGGGGGHHHHHHHHHHHHGHHHHHHHHHHHCFGGGHGGGGHGHHHHFGHHGFHHHGHHHHGCCGHHHHGHHGGHHHHH0GHGHHHHHHHHGGGGG@AGGGGGGGGGGGGGGGGG@@FFFFF/FB?B?FFFEFFFFF/BFFFFBEFBB?-=@@BEBFFFFFFFFEFFFAFF:BBFBF\tYT:Z:UU\n",
      "M02215:3:000000000-B9JT7:1:1101:11937:1965\t0\tNC_023273.1\t36647\t0\t6M3I242M\t*\t0\t0\tGTATCGCATGGTACTGGTTGAACAGTATATCCTCCTCTAAGTCATATTACGAGCCACTCTGGTGGTGCAGTTGATTTAGCTATTTTCAGTTTACATTTATCTGGAGCGAGCAGTATTTTAGGGGCGATTAACTTTATTACCACTATCTTTAACATGCGTGGGCCTGGTCTGGGCTTCCATCGCTTACCTTTATTTGTGTGGTCTGTTCTGATTACGGCCTTCTTACTTCTTCTCTCTTTACCGGTTTTAGC\t>11>>>AAA11@3BGFBGGFFGHHGHHHFHHHHGHHHHHHHHHHHHHHHHGEGGGHHHHHGHHHGGGGFHHGHHGHHHHHHHHHHHGHGHHHHHHHHHGHHHHHB0GCEEGGHHBFGHHHHGFCCGGGHBFFHHHHHHHHHHHCHHHHGHHHHHHHHGGGCGGHGGGHHHGGHHHHHGHHH?FGHGGHHHHHHHHHH/CCCHGH/GHCGH0FGGFG.@AGGFFG0BFGGGGGFEBFFGGBBBB-9AAE///\tAS:i:-59\tXS:i:-59\tXN:i:0\tXM:i:10\tXO:i:1\tXG:i:3\tNM:i:13\tMD:Z:1G0T0G4A2A2A2G2G2T2C221\tYT:Z:UU\n",
      "M02215:3:000000000-B9JT7:1:1101:14125:1965\t4\t*\t0\t0\t*\t*\t0\t0\tCTAACGACGGGTACTGGTTGAACAGTTTATCCCCCTTTGTCAGGAATTTTAGCTCATTCTGGTGGCGCTGTCGATTTAGCTATTTTTAGCTTACATTTGGCGGGTACTTCGTCTATTTTAGGAGCTATAAATTTTATTGTAACTATTTTAAACATGCGTTGTCCTGGTATGACTGCTCATAGAACACCTTTATTTGTTTGGGCTGTTTTTATAACAGCTTTTTTACTTTTGTTATCATTTCCTGTTTTAGC\tAA??A??A@A?DCGGECGGEGGHGHHHHHHHHHGGGHHHHHHHHFHHHHHHHHHHHHHHHHHHHGHGGGGGHGHGHGHHHHHHHHHHHFHHHHHHHHHFFHCGGGGHHHHGHGHHHHHHFHE1FHHHHHHHHHHHHHHHHFFGHHHHHHHHHHHHHHGGGGGHHHHHHGHHFHH0GFHHHHHHFHHHGHHHHHGGHHFGF9EFBDGGGGGGGGGGGGFFGGGGG?FFEFFBFFEFEBFFFBFFFFFFF///\tYT:Z:UU\n",
      "M02215:3:000000000-B9JT7:1:1101:16761:1826\t4\t*\t0\t0\t*\t*\t0\t0\tGCTTCCATCTCTTACCTTTATTTGTGTTGTCTGTTCTGATTACGGCCTTCTTACTTCTTCTCTCTTTACCGGTTTTAGCGGGAGCGATTACGATGCTGTTAACGTATCGTAACTTCAATACCTCGTTCTTTGATCCGGCGGGCGGAGGTGACCCTATTTTTTTCCTTCACCTTTTTTGGTTCTTCGGCCATCCCCTTTTCTTTTCTTTATTTGATCGGAATTTCACACCTCTGTACTCCCGTCACCGTTGT\t11>A>@1DB1@BA3A1BGG1FGH3D1B00BBG1FGGHB3FGBB00AAEGGHGBBGGGHHFGGGFHHHFEF//AEEGH0AA//>/?>/?G?F//?/?F1BFF2B/00BF/F00EGGG2>G2<<FE/FFFFGH12FFD0/<//-------9.0;9C9/:CFF099/900//99/;FFF@--9://;/-----:/-:---///9/://9/9//////;/----9////9//-9://///9//--99-9;--999\tYT:Z:UU\n"
     ]
    }
   ],
   "source": [
    "!head -20 ../analysis/Run_1_20170803.sam "
   ]
  },
  {
   "cell_type": "code",
   "execution_count": null,
   "metadata": {},
   "outputs": [],
   "source": []
  }
 ],
 "metadata": {
  "kernelspec": {
   "display_name": "Python 3",
   "language": "python",
   "name": "python3"
  },
  "language_info": {
   "codemirror_mode": {
    "name": "ipython",
    "version": 3
   },
   "file_extension": ".py",
   "mimetype": "text/x-python",
   "name": "python",
   "nbconvert_exporter": "python",
   "pygments_lexer": "ipython3",
   "version": "3.8.5"
  }
 },
 "nbformat": 4,
 "nbformat_minor": 4
}
