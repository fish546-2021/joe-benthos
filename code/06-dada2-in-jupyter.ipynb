{
 "cells": [
  {
   "cell_type": "markdown",
   "id": "extra-dayton",
   "metadata": {},
   "source": [
    "## Attempt to Run dada2 on demultiplexed fastqs"
   ]
  },
  {
   "cell_type": "code",
   "execution_count": null,
   "id": "public-conservative",
   "metadata": {},
   "outputs": [],
   "source": []
  }
 ],
 "metadata": {
  "kernelspec": {
   "display_name": "R",
   "language": "R",
   "name": "ir"
  },
  "language_info": {
   "codemirror_mode": "r",
   "file_extension": ".r",
   "mimetype": "text/x-r-source",
   "name": "R",
   "pygments_lexer": "r",
   "version": "4.0.3"
  }
 },
 "nbformat": 4,
 "nbformat_minor": 5
}
