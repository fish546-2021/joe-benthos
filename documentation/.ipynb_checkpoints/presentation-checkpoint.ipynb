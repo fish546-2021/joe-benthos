{
 "cells": [
  {
   "cell_type": "markdown",
   "id": "accredited-diploma",
   "metadata": {},
   "source": [
    "## Hood Canal and San Juan eDNA Data Exploration\n",
    "### Benthic Community Structure & Dynamics\n",
    "Present your work including:   \n",
    "a) the scientific question you asked,  \n",
    "b) how you approached the analyses,   \n",
    "c) your primary results (the answer to the question asked)  \n",
    "d) what the next steps would be.  "
   ]
  },
  {
   "cell_type": "code",
   "execution_count": null,
   "id": "palestinian-runner",
   "metadata": {},
   "outputs": [],
   "source": [
    "#now joe learns how to do a jupyter presentation"
   ]
  }
 ],
 "metadata": {
  "kernelspec": {
   "display_name": "R",
   "language": "R",
   "name": "ir"
  },
  "language_info": {
   "codemirror_mode": "r",
   "file_extension": ".r",
   "mimetype": "text/x-r-source",
   "name": "R",
   "pygments_lexer": "r",
   "version": "4.0.3"
  }
 },
 "nbformat": 4,
 "nbformat_minor": 5
}
