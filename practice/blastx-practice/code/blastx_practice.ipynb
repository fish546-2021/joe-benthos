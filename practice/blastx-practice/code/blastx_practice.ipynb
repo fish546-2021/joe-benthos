{
 "cells": [
  {
   "cell_type": "markdown",
   "metadata": {},
   "source": [
    "## Blastx Practice\n",
    "This week you will use Blastx to compare a set of unknown nucleotide sequences to a known set of protein sequences.. specifically the Swiss-Prot sequences at https://www.uniprot.org/downloads.\n",
    "\n",
    "Unless you already have a fasta use http://eagle.fish.washington.edu/cnidarian/Ab_4denovo_CLC6_a.fa\n",
    "\n",
    "Show all of your work in Jupyter notebook that you push to the GitHub repo you created last week.\n",
    "\n",
    "hints ... https://github.com/sr320/fun-gen/blob/master/Jupyter/03-Local-Blast.ipynb\n",
    "AND this screen recording\n",
    "\n",
    "Please add URL to your Jupyter notebook below once on GitHub."
   ]
  },
  {
   "cell_type": "markdown",
   "metadata": {},
   "source": [
    "## Blast Directory"
   ]
  },
  {
   "cell_type": "code",
   "execution_count": 2,
   "metadata": {},
   "outputs": [
    {
     "name": "stdout",
     "output_type": "stream",
     "text": [
      "/Users/dishajpatel/Documents/GitHub/joe-benthos/blastx_practice/code\n"
     ]
    }
   ],
   "source": [
    "#where am i\n",
    "!pwd"
   ]
  },
  {
   "cell_type": "code",
   "execution_count": 3,
   "metadata": {},
   "outputs": [],
   "source": [
    "bldir = \"/Applications/bioinformatics/ncbi-blast-2.11.0+/bin/\""
   ]
  },
  {
   "cell_type": "code",
   "execution_count": 4,
   "metadata": {},
   "outputs": [
    {
     "name": "stdout",
     "output_type": "stream",
     "text": [
      "USAGE\n",
      "  blastx [-h] [-help] [-import_search_strategy filename]\n",
      "    [-export_search_strategy filename] [-task task_name] [-db database_name]\n",
      "    [-dbsize num_letters] [-gilist filename] [-seqidlist filename]\n",
      "    [-negative_gilist filename] [-negative_seqidlist filename]\n",
      "    [-taxids taxids] [-negative_taxids taxids] [-taxidlist filename]\n",
      "    [-negative_taxidlist filename] [-ipglist filename]\n",
      "    [-negative_ipglist filename] [-entrez_query entrez_query]\n",
      "    [-db_soft_mask filtering_algorithm] [-db_hard_mask filtering_algorithm]\n",
      "    [-subject subject_input_file] [-subject_loc range] [-query input_file]\n",
      "    [-out output_file] [-evalue evalue] [-word_size int_value]\n",
      "    [-gapopen open_penalty] [-gapextend extend_penalty]\n",
      "    [-qcov_hsp_perc float_value] [-max_hsps int_value]\n",
      "    [-xdrop_ungap float_value] [-xdrop_gap float_value]\n",
      "    [-xdrop_gap_final float_value] [-searchsp int_value]\n",
      "    [-sum_stats bool_value] [-max_intron_length length] [-seg SEG_options]\n",
      "    [-soft_masking soft_masking] [-matrix matrix_name]\n",
      "    [-threshold float_value] [-culling_limit int_value]\n",
      "    [-best_hit_overhang float_value] [-best_hit_score_edge float_value]\n",
      "    [-subject_besthit] [-window_size int_value] [-ungapped] [-lcase_masking]\n",
      "    [-query_loc range] [-strand strand] [-parse_deflines]\n",
      "    [-query_gencode int_value] [-outfmt format] [-show_gis]\n",
      "    [-num_descriptions int_value] [-num_alignments int_value]\n",
      "    [-line_length line_length] [-html] [-sorthits sort_hits]\n",
      "    [-sorthsps sort_hsps] [-max_target_seqs num_sequences]\n",
      "    [-num_threads int_value] [-remote] [-comp_based_stats compo]\n",
      "    [-use_sw_tback] [-version]\n",
      "\n",
      "DESCRIPTION\n",
      "   Translated Query-Protein Subject BLAST 2.11.0+\n",
      "\n",
      "Use '-help' to print detailed descriptions of command line arguments\n"
     ]
    }
   ],
   "source": [
    "#test file path variable\n",
    "!{bldir}blastx -h"
   ]
  },
  {
   "cell_type": "markdown",
   "metadata": {},
   "source": [
    "## Create Blast Database\n",
    "Make a database of UniProt/Swiss-prot:"
   ]
  },
  {
   "cell_type": "code",
   "execution_count": 83,
   "metadata": {},
   "outputs": [
    {
     "name": "stdout",
     "output_type": "stream",
     "text": [
      "  % Total    % Received % Xferd  Average Speed   Time    Time     Time  Current\n",
      "                                 Dload  Upload   Total   Spent    Left  Speed\n",
      "100 85.6M  100 85.6M    0     0   214k      0  0:06:49  0:06:49 --:--:--  204k3.2M    0     0   213k      0  0:06:51  0:01:03  0:05:48 7694620  0:01:09  0:06:11 47330    0  0:05:21  0:03:35  0:01:46  387k:05:18  0:03:37  0:01:41  440kk      0  0:05:11  0:03:44  0:01:27  454k    0   272k      0  0:05:21  0:03:51  0:01:30     0     0  0:06:27  0:04:39  0:01:48     0 0     0   205k      0  0:07:07  0:05:08  0:01:59     0     0   210k      0  0:06:56  0:05:39  0:01:17  309k    0  0:06:46  0:05:48  0:00:58  573k6M   91 78.7M    0     0   219k      0  0:06:38  0:06:06  0:00:32  128k  0     0   219k      0  0:06:39  0:06:07  0:00:32  121k  0     0   214k      0  0:06:48  0:06:22  0:00:26   98k  0:06:49  0:06:41  0:00:08  252k\n"
     ]
    }
   ],
   "source": [
    "!curl \\\n",
    "ftp://ftp.uniprot.org/pub/databases/uniprot/current_release/knowledgebase/complete/uniprot_sprot.fasta.gz \\\n",
    "> ../data/blastdb/uniprot_sprot.fasta.gz"
   ]
  },
  {
   "cell_type": "code",
   "execution_count": 93,
   "metadata": {},
   "outputs": [
    {
     "name": "stdout",
     "output_type": "stream",
     "text": [
      "00678c4c2893c9d29b76060e18de169fce99314e  ../data/blastdb/uniprot_sprot.fasta.gz\n",
      "/bin/bash: md5sum: command not found\n"
     ]
    }
   ],
   "source": [
    "#checksum of protein database \n",
    "!shasum ../data/blastdb/uniprot_sprot.fasta.gz\n",
    "!md5sum ../data/blastdb/uniprot_sprot.fasta.gz"
   ]
  },
  {
   "cell_type": "code",
   "execution_count": 94,
   "metadata": {},
   "outputs": [],
   "source": [
    "#from ftp://ftp.uniprot.org/pub/databases/uniprot/current_release/knowledgebase/complete/release.metalink \n",
    "#<file name=\"uniprot_sprot.fasta.gz\">\n",
    "#<hash type=\"md5\">c3a3f4f5de9d69723a1e8f13817c0068</hash>"
   ]
  },
  {
   "cell_type": "code",
   "execution_count": 95,
   "metadata": {},
   "outputs": [
    {
     "name": "stdout",
     "output_type": "stream",
     "text": [
      "\n",
      "\n",
      "Building a new DB, current time: 01/20/2021 17:02:08\n",
      "New DB name:   /Users/dishajpatel/Documents/GitHub/joe-benthos/blastx_practice/data/blastdb/uniprot_sprot_r2021_01\n",
      "New DB title:  ../data/blastdb/uniprot_sprot.fasta\n",
      "Sequence type: Protein\n",
      "Deleted existing Protein BLAST database named /Users/dishajpatel/Documents/GitHub/joe-benthos/blastx_practice/data/blastdb/uniprot_sprot_r2021_01\n",
      "Keep MBits: T\n",
      "Maximum file size: 1000000000B\n",
      "Adding sequences from FASTA; added 563972 sequences in 26.6057 seconds.\n",
      "\n",
      "\n"
     ]
    }
   ],
   "source": [
    "#appending version number to database\n",
    "!{bldir}makeblastdb \\\n",
    "-in ../data/blastdb/uniprot_sprot.fasta \\\n",
    "-dbtype prot \\\n",
    "-out ../data/blastdb/uniprot_sprot_r2021_01"
   ]
  },
  {
   "cell_type": "markdown",
   "metadata": {},
   "source": [
    "## Get Query File\n",
    "* Unkown nucleotide sequence"
   ]
  },
  {
   "cell_type": "code",
   "execution_count": 96,
   "metadata": {},
   "outputs": [
    {
     "name": "stdout",
     "output_type": "stream",
     "text": [
      "  % Total    % Received % Xferd  Average Speed   Time    Time     Time  Current\n",
      "                                 Dload  Upload   Total   Spent    Left  Speed\n",
      "100   272    0     0    0     0      0      0 --:--:-- --:--:-- --:--:--     0 100   272    0     0   1454      0 --:--:-- --:--:-- --:--:--  1462\n"
     ]
    }
   ],
   "source": [
    "#grabbing file from url, move to local \n",
    "!curl http://eagle.fish.washington.edu/cnidarian/Ab_4denovo_CLC6_a.fa \\\n",
    "> ../data/Ab_4denovo_CLC6_a.fa"
   ]
  },
  {
   "cell_type": "code",
   "execution_count": 97,
   "metadata": {},
   "outputs": [
    {
     "name": "stdout",
     "output_type": "stream",
     "text": [
      "<!DOCTYPE HTML PUBLIC \"-//IETF//DTD HTML 2.0//EN\">\n",
      "<html><head>\n",
      "<title>301 Moved Permanently</title>\n",
      "</head><body>\n",
      "<h1>Moved Permanently</h1>\n",
      "<p>The document has moved <a href=\"https://eagle.fish.washington.edu/cnidarian/Ab_4denovo_CLC6_a.fa\">here</a>.</p>\n",
      "</body></html>\n"
     ]
    }
   ],
   "source": [
    "#head of nucleotide sequence file \n",
    "!head -10 ../data/Ab_4denovo_CLC6_a.fa"
   ]
  },
  {
   "cell_type": "code",
   "execution_count": 64,
   "metadata": {},
   "outputs": [
    {
     "name": "stdout",
     "output_type": "stream",
     "text": [
      "  % Total    % Received % Xferd  Average Speed   Time    Time     Time  Current\n",
      "                                 Dload  Upload   Total   Spent    Left  Speed\n",
      "100 1982k  100 1982k    0     0   628k      0  0:00:03  0:00:03 --:--:--  628k\n"
     ]
    }
   ],
   "source": [
    "#that doesn't seem right...\n",
    "#grabbing file from new url? move to local \n",
    "!curl https://eagle.fish.washington.edu/cnidarian/Ab_4denovo_CLC6_a.fa \\\n",
    "> ../data/Ab_4denovo_CLC6_a.fa"
   ]
  },
  {
   "cell_type": "code",
   "execution_count": 65,
   "metadata": {},
   "outputs": [
    {
     "name": "stdout",
     "output_type": "stream",
     "text": [
      ">solid0078_20110412_FRAG_BC_WHITE_WHITE_F3_QV_SE_trimmed_contig_1\n",
      "ACACCCCACCCCAACGCACCCTCACCCCCACCCCAACAATCCATGATTGAATACTTCATC\n",
      "TATCCAAGACAAACTCCTCCTACAATCCATGATAGAATTCCTCCAAAAATAATTTCACAC\n",
      "TGAAACTCCGGTATCCGAGTTATTTTGTTCCCAGTAAAATGGCATCAACAAAAGTAGGTC\n",
      "TGGATTAACGAACCAATGTTGCTGCGTAATATCCCATTGACATATCTTGTCGATTCCTAC\n",
      "CAGGATCCGGACTGACGAGATTTCACTGTACGTTTATGCAAGTCATTTCCATATATAAAA\n",
      "TTGGATCTTATTTGCACAGTTAAATGTCTCTATGCTTATTTATAAATCAATGCCCGTAAG\n",
      "CTCCTAATATTTCTCTTTTCGTCCGACGAGCAAACAGTGAGTTTACTGTGGCCTTCAGCA\n",
      "AAAGTATTGATGTTGTAAATCTCAGTTGTGATTGAACAATTTGCCTCACTAGAAGTAGCC\n",
      "TTC\n"
     ]
    }
   ],
   "source": [
    "#try to print the head again \n",
    "!head -10 ../data/Ab_4denovo_CLC6_a.fa"
   ]
  },
  {
   "cell_type": "code",
   "execution_count": 66,
   "metadata": {},
   "outputs": [],
   "source": [
    "#much better "
   ]
  },
  {
   "cell_type": "code",
   "execution_count": 67,
   "metadata": {},
   "outputs": [
    {
     "name": "stdout",
     "output_type": "stream",
     "text": [
      "5490\n"
     ]
    }
   ],
   "source": [
    "#how many sequences? lets count \">\" as we know each contig has 1\n",
    "!grep -c \">\" ../data/Ab_4denovo_CLC6_a.fa"
   ]
  },
  {
   "cell_type": "code",
   "execution_count": 74,
   "metadata": {},
   "outputs": [
    {
     "name": "stdout",
     "output_type": "stream",
     "text": [
      "Warning: [blastx] Examining 5 or more matches is recommended\n",
      "^C\n"
     ]
    }
   ],
   "source": [
    "!{bldir}blastx \\\n",
    "-query ../data/Ab_4denovo_CLC6_a.fa \\\n",
    "-db ../data/blastdb/uniprot_sprot_r2021_01  \\\n",
    "-out ../analyses/Ab_4-uniprot_blastx.tab \\\n",
    "-evalue 1E-20 \\\n",
    "-num_threads 4 \\\n",
    "-max_target_seqs 1 \\\n",
    "-outfmt 6"
   ]
  },
  {
   "cell_type": "code",
   "execution_count": 72,
   "metadata": {},
   "outputs": [
    {
     "name": "stdout",
     "output_type": "stream",
     "text": [
      "solid0078_20110412_FRAG_BC_WHITE_WHITE_F3_QV_SE_trimmed_contig_3\tsp|O42248|GBLP_DANRE\t82.456\t171\t30\t0\t1\t513\t35\t205\t2.77e-103\t301\n",
      "solid0078_20110412_FRAG_BC_WHITE_WHITE_F3_QV_SE_trimmed_contig_5\tsp|Q08013|SSRG_RAT\t75.385\t65\t16\t0\t3\t197\t121\t185\t1.38e-28\t104\n",
      "solid0078_20110412_FRAG_BC_WHITE_WHITE_F3_QV_SE_trimmed_contig_6\tsp|P12234|MPCP_BOVIN\t76.623\t77\t18\t0\t2\t232\t286\t362\t7.19e-24\t98.6\n",
      "solid0078_20110412_FRAG_BC_WHITE_WHITE_F3_QV_SE_trimmed_contig_9\tsp|Q41629|ADT1_WHEAT\t82.258\t62\t11\t0\t3\t188\t170\t231\t5.98e-28\t104\n",
      "solid0078_20110412_FRAG_BC_WHITE_WHITE_F3_QV_SE_trimmed_contig_13\tsp|Q32NG4|GALD1_XENLA\t54.444\t90\t40\t1\t1\t270\t140\t228\t1.49e-28\t106\n",
      "solid0078_20110412_FRAG_BC_WHITE_WHITE_F3_QV_SE_trimmed_contig_23\tsp|Q9GNE2|RL23_AEDAE\t97.222\t72\t2\t0\t67\t282\t14\t85\t6.71e-44\t142\n",
      "solid0078_20110412_FRAG_BC_WHITE_WHITE_F3_QV_SE_trimmed_contig_31\tsp|B3EWZ9|HEPHL_ACRMI\t56.589\t129\t53\t1\t2\t379\t26\t154\t1.77e-44\t157\n",
      "solid0078_20110412_FRAG_BC_WHITE_WHITE_F3_QV_SE_trimmed_contig_31\tsp|B3EWZ9|HEPHL_ACRMI\t44.715\t123\t64\t1\t8\t364\t380\t502\t9.05e-30\t115\n",
      "solid0078_20110412_FRAG_BC_WHITE_WHITE_F3_QV_SE_trimmed_contig_31\tsp|B3EWZ9|HEPHL_ACRMI\t44.531\t128\t65\t3\t11\t376\t732\t859\t1.18e-27\t109\n",
      "solid0078_20110412_FRAG_BC_WHITE_WHITE_F3_QV_SE_trimmed_contig_32\tsp|Q641Y2|NDUS2_RAT\t88.034\t117\t14\t0\t2\t352\t334\t450\t6.33e-72\t224\n"
     ]
    }
   ],
   "source": [
    "!head ../analyses/Ab_4-uniprot_blastx.tab"
   ]
  },
  {
   "cell_type": "code",
   "execution_count": 76,
   "metadata": {},
   "outputs": [
    {
     "name": "stdout",
     "output_type": "stream",
     "text": [
      "     209 ../analyses/Ab_4-uniprot_blastx.tab\n"
     ]
    }
   ],
   "source": [
    "#how many blast hits? \n",
    "!wc -l ../analyses/Ab_4-uniprot_blastx.tab"
   ]
  },
  {
   "cell_type": "code",
   "execution_count": 5,
   "metadata": {},
   "outputs": [
    {
     "name": "stdout",
     "output_type": "stream",
     "text": [
      "USAGE\n",
      "  blastx [-h] [-help] [-import_search_strategy filename]\n",
      "    [-export_search_strategy filename] [-task task_name] [-db database_name]\n",
      "    [-dbsize num_letters] [-gilist filename] [-seqidlist filename]\n",
      "    [-negative_gilist filename] [-negative_seqidlist filename]\n",
      "    [-taxids taxids] [-negative_taxids taxids] [-taxidlist filename]\n",
      "    [-negative_taxidlist filename] [-ipglist filename]\n",
      "    [-negative_ipglist filename] [-entrez_query entrez_query]\n",
      "    [-db_soft_mask filtering_algorithm] [-db_hard_mask filtering_algorithm]\n",
      "    [-subject subject_input_file] [-subject_loc range] [-query input_file]\n",
      "    [-out output_file] [-evalue evalue] [-word_size int_value]\n",
      "    [-gapopen open_penalty] [-gapextend extend_penalty]\n",
      "    [-qcov_hsp_perc float_value] [-max_hsps int_value]\n",
      "    [-xdrop_ungap float_value] [-xdrop_gap float_value]\n",
      "    [-xdrop_gap_final float_value] [-searchsp int_value]\n",
      "    [-sum_stats bool_value] [-max_intron_length length] [-seg SEG_options]\n",
      "    [-soft_masking soft_masking] [-matrix matrix_name]\n",
      "    [-threshold float_value] [-culling_limit int_value]\n",
      "    [-best_hit_overhang float_value] [-best_hit_score_edge float_value]\n",
      "    [-subject_besthit] [-window_size int_value] [-ungapped] [-lcase_masking]\n",
      "    [-query_loc range] [-strand strand] [-parse_deflines]\n",
      "    [-query_gencode int_value] [-outfmt format] [-show_gis]\n",
      "    [-num_descriptions int_value] [-num_alignments int_value]\n",
      "    [-line_length line_length] [-html] [-sorthits sort_hits]\n",
      "    [-sorthsps sort_hsps] [-max_target_seqs num_sequences]\n",
      "    [-num_threads int_value] [-remote] [-comp_based_stats compo]\n",
      "    [-use_sw_tback] [-version]\n",
      "\n",
      "DESCRIPTION\n",
      "   Translated Query-Protein Subject BLAST 2.11.0+\n",
      "\n",
      "OPTIONAL ARGUMENTS\n",
      " -h\n",
      "   Print USAGE and DESCRIPTION;  ignore all other parameters\n",
      " -help\n",
      "   Print USAGE, DESCRIPTION and ARGUMENTS; ignore all other parameters\n",
      " -version\n",
      "   Print version number;  ignore other arguments\n",
      "\n",
      " *** Input query options\n",
      " -query <File_In>\n",
      "   Input file name\n",
      "   Default = `-'\n",
      " -query_loc <String>\n",
      "   Location on the query sequence in 1-based offsets (Format: start-stop)\n",
      " -strand <String, `both', `minus', `plus'>\n",
      "   Query strand(s) to search against database/subject\n",
      "   Default = `both'\n",
      " -query_gencode <Integer, values between: 1-6, 9-16, 21-31, 33>\n",
      "   Genetic code to use to translate query (see\n",
      "   https://www.ncbi.nlm.nih.gov/Taxonomy/taxonomyhome.html/index.cgi?chapter=\n",
      "   cgencodes for details)\n",
      "   Default = `1'\n",
      "\n",
      " *** General search options\n",
      " -task <String, Permissible values: 'blastx' 'blastx-fast' >\n",
      "   Task to execute\n",
      "   Default = `blastx'\n",
      " -db <String>\n",
      "   BLAST database name\n",
      "    * Incompatible with:  subject, subject_loc\n",
      " -out <File_Out>\n",
      "   Output file name\n",
      "   Default = `-'\n",
      " -evalue <Real>\n",
      "   Expectation value (E) threshold for saving hits \n",
      "   Default = `10'\n",
      " -word_size <Integer, >=2>\n",
      "   Word size for wordfinder algorithm\n",
      " -gapopen <Integer>\n",
      "   Cost to open a gap\n",
      " -gapextend <Integer>\n",
      "   Cost to extend a gap\n",
      " -max_intron_length <Integer, >=0>\n",
      "   Length of the largest intron allowed in a translated nucleotide sequence\n",
      "   when linking multiple distinct alignments\n",
      "   Default = `0'\n",
      " -matrix <String>\n",
      "   Scoring matrix name (normally BLOSUM62)\n",
      " -threshold <Real, >=0>\n",
      "   Minimum word score such that the word is added to the BLAST lookup table\n",
      " -comp_based_stats <String>\n",
      "   Use composition-based statistics:\n",
      "       D or d: default (equivalent to 2 )\n",
      "       0 or F or f: No composition-based statistics\n",
      "       1: Composition-based statistics as in NAR 29:2994-3005, 2001\n",
      "       2 or T or t : Composition-based score adjustment as in Bioinformatics\n",
      "   21:902-911,\n",
      "       2005, conditioned on sequence properties\n",
      "       3: Composition-based score adjustment as in Bioinformatics 21:902-911,\n",
      "       2005, unconditionally\n",
      "   Default = `2'\n",
      "\n",
      " *** BLAST-2-Sequences options\n",
      " -subject <File_In>\n",
      "   Subject sequence(s) to search\n",
      "    * Incompatible with:  db, gilist, seqidlist, negative_gilist,\n",
      "   negative_seqidlist, taxids, taxidlist, negative_taxids, negative_taxidlist,\n",
      "   ipglist, negative_ipglist, db_soft_mask, db_hard_mask\n",
      " -subject_loc <String>\n",
      "   Location on the subject sequence in 1-based offsets (Format: start-stop)\n",
      "    * Incompatible with:  db, gilist, seqidlist, negative_gilist,\n",
      "   negative_seqidlist, taxids, taxidlist, negative_taxids, negative_taxidlist,\n",
      "   ipglist, negative_ipglist, db_soft_mask, db_hard_mask, remote\n",
      "\n",
      " *** Formatting options\n",
      " -outfmt <String>\n",
      "   alignment view options:\n",
      "     0 = Pairwise,\n",
      "     1 = Query-anchored showing identities,\n",
      "     2 = Query-anchored no identities,\n",
      "     3 = Flat query-anchored showing identities,\n",
      "     4 = Flat query-anchored no identities,\n",
      "     5 = BLAST XML,\n",
      "     6 = Tabular,\n",
      "     7 = Tabular with comment lines,\n",
      "     8 = Seqalign (Text ASN.1),\n",
      "     9 = Seqalign (Binary ASN.1),\n",
      "    10 = Comma-separated values,\n",
      "    11 = BLAST archive (ASN.1),\n",
      "    12 = Seqalign (JSON),\n",
      "    13 = Multiple-file BLAST JSON,\n",
      "    14 = Multiple-file BLAST XML2,\n",
      "    15 = Single-file BLAST JSON,\n",
      "    16 = Single-file BLAST XML2,\n",
      "    18 = Organism Report\n",
      "   \n",
      "   Options 6, 7 and 10 can be additionally configured to produce\n",
      "   a custom format specified by space delimited format specifiers,\n",
      "   or by a token specified by the delim keyword.\n",
      "    E.g.: \"10 delim=@ qacc sacc score\".\n",
      "   The delim keyword must appear after the numeric output format\n",
      "   specification.\n",
      "   The supported format specifiers are:\n",
      "   \t    qseqid means Query Seq-id\n",
      "   \t       qgi means Query GI\n",
      "   \t      qacc means Query accesion\n",
      "   \t   qaccver means Query accesion.version\n",
      "   \t      qlen means Query sequence length\n",
      "   \t    sseqid means Subject Seq-id\n",
      "   \t sallseqid means All subject Seq-id(s), separated by a ';'\n",
      "   \t       sgi means Subject GI\n",
      "   \t    sallgi means All subject GIs\n",
      "   \t      sacc means Subject accession\n",
      "   \t   saccver means Subject accession.version\n",
      "   \t   sallacc means All subject accessions\n",
      "   \t      slen means Subject sequence length\n",
      "   \t    qstart means Start of alignment in query\n",
      "   \t      qend means End of alignment in query\n",
      "   \t    sstart means Start of alignment in subject\n",
      "   \t      send means End of alignment in subject\n",
      "   \t      qseq means Aligned part of query sequence\n",
      "   \t      sseq means Aligned part of subject sequence\n",
      "   \t    evalue means Expect value\n",
      "   \t  bitscore means Bit score\n",
      "   \t     score means Raw score\n",
      "   \t    length means Alignment length\n",
      "   \t    pident means Percentage of identical matches\n",
      "   \t    nident means Number of identical matches\n",
      "   \t  mismatch means Number of mismatches\n",
      "   \t  positive means Number of positive-scoring matches\n",
      "   \t   gapopen means Number of gap openings\n",
      "   \t      gaps means Total number of gaps\n",
      "   \t      ppos means Percentage of positive-scoring matches\n",
      "   \t    frames means Query and subject frames separated by a '/'\n",
      "   \t    qframe means Query frame\n",
      "   \t    sframe means Subject frame\n",
      "   \t      btop means Blast traceback operations (BTOP)\n",
      "   \t    staxid means Subject Taxonomy ID\n",
      "   \t  ssciname means Subject Scientific Name\n",
      "   \t  scomname means Subject Common Name\n",
      "   \tsblastname means Subject Blast Name\n",
      "   \t sskingdom means Subject Super Kingdom\n",
      "   \t   staxids means unique Subject Taxonomy ID(s), separated by a ';'\n",
      "   \t\t\t (in numerical order)\n",
      "   \t sscinames means unique Subject Scientific Name(s), separated by a ';'\n",
      "   \t scomnames means unique Subject Common Name(s), separated by a ';'\n",
      "   \tsblastnames means unique Subject Blast Name(s), separated by a ';'\n",
      "   \t\t\t (in alphabetical order)\n",
      "   \tsskingdoms means unique Subject Super Kingdom(s), separated by a ';'\n",
      "   \t\t\t (in alphabetical order) \n",
      "   \t    stitle means Subject Title\n",
      "   \tsalltitles means All Subject Title(s), separated by a '<>'\n",
      "   \t   sstrand means Subject Strand\n",
      "   \t     qcovs means Query Coverage Per Subject\n",
      "   \t   qcovhsp means Query Coverage Per HSP\n",
      "   \t    qcovus means Query Coverage Per Unique Subject (blastn only)\n",
      "   When not provided, the default value is:\n",
      "   'qaccver saccver pident length mismatch gapopen qstart qend sstart send\n",
      "   evalue bitscore', which is equivalent to the keyword 'std'\n",
      "   Default = `0'\n",
      " -show_gis\n",
      "   Show NCBI GIs in deflines?\n",
      " -num_descriptions <Integer, >=0>\n",
      "   Number of database sequences to show one-line descriptions for\n",
      "   Not applicable for outfmt > 4\n",
      "   Default = `500'\n",
      "    * Incompatible with:  max_target_seqs\n",
      " -num_alignments <Integer, >=0>\n",
      "   Number of database sequences to show alignments for\n",
      "   Default = `250'\n",
      "    * Incompatible with:  max_target_seqs\n",
      " -line_length <Integer, >=1>\n",
      "   Line length for formatting alignments\n",
      "   Not applicable for outfmt > 4\n",
      "   Default = `60'\n",
      " -html\n",
      "   Produce HTML output?\n",
      " -sorthits <Integer, (>=0 and =<4)>\n",
      "   Sorting option for hits:\n",
      "   alignment view options:\n",
      "     0 = Sort by evalue,\n",
      "     1 = Sort by bit score,\n",
      "     2 = Sort by total score,\n",
      "     3 = Sort by percent identity,\n",
      "     4 = Sort by query coverage\n",
      "   Not applicable for outfmt > 4\n",
      " -sorthsps <Integer, (>=0 and =<4)>\n",
      "   Sorting option for hps:\n",
      "     0 = Sort by hsp evalue,\n",
      "     1 = Sort by hsp score,\n",
      "     2 = Sort by hsp query start,\n",
      "     3 = Sort by hsp percent identity,\n",
      "     4 = Sort by hsp subject start\n",
      "   Not applicable for outfmt != 0\n",
      "\n",
      " *** Query filtering options\n",
      " -seg <String>\n",
      "   Filter query sequence with SEG (Format: 'yes', 'window locut hicut', or\n",
      "   'no' to disable)\n",
      "   Default = `12 2.2 2.5'\n",
      " -soft_masking <Boolean>\n",
      "   Apply filtering locations as soft masks\n",
      "   Default = `false'\n",
      " -lcase_masking\n",
      "   Use lower case filtering in query and subject sequence(s)?\n",
      "\n",
      " *** Restrict search or results\n",
      " -gilist <String>\n",
      "   Restrict search of database to list of GIs\n",
      "    * Incompatible with:  seqidlist, taxids, taxidlist, negative_gilist,\n",
      "   negative_seqidlist, negative_taxids, negative_taxidlist, remote, subject,\n",
      "   subject_loc\n",
      " -seqidlist <String>\n",
      "   Restrict search of database to list of SeqIDs\n",
      "    * Incompatible with:  gilist, taxids, taxidlist, negative_gilist,\n",
      "   negative_seqidlist, negative_taxids, negative_taxidlist, remote, subject,\n",
      "   subject_loc\n",
      " -negative_gilist <String>\n",
      "   Restrict search of database to everything except the specified GIs\n",
      "    * Incompatible with:  gilist, seqidlist, taxids, taxidlist,\n",
      "   negative_seqidlist, negative_taxids, negative_taxidlist, remote, subject,\n",
      "   subject_loc\n",
      " -negative_seqidlist <String>\n",
      "   Restrict search of database to everything except the specified SeqIDs\n",
      "    * Incompatible with:  gilist, seqidlist, taxids, taxidlist,\n",
      "   negative_gilist, negative_taxids, negative_taxidlist, remote, subject,\n",
      "   subject_loc\n",
      " -taxids <String>\n",
      "   Restrict search of database to include only the specified taxonomy IDs\n",
      "   (multiple IDs delimited by ',')\n",
      "    * Incompatible with:  gilist, seqidlist, taxidlist, negative_gilist,\n",
      "   negative_seqidlist, negative_taxids, negative_taxidlist, remote, subject,\n",
      "   subject_loc\n",
      " -negative_taxids <String>\n",
      "   Restrict search of database to everything except the specified taxonomy IDs\n",
      "   (multiple IDs delimited by ',')\n",
      "    * Incompatible with:  gilist, seqidlist, taxids, taxidlist,\n",
      "   negative_gilist, negative_seqidlist, negative_taxidlist, remote, subject,\n",
      "   subject_loc\n",
      " -taxidlist <String>\n",
      "   Restrict search of database to include only the specified taxonomy IDs\n",
      "    * Incompatible with:  gilist, seqidlist, taxids, negative_gilist,\n",
      "   negative_seqidlist, negative_taxids, negative_taxidlist, remote, subject,\n",
      "   subject_loc\n",
      " -negative_taxidlist <String>\n",
      "   Restrict search of database to everything except the specified taxonomy IDs\n",
      "    * Incompatible with:  gilist, seqidlist, taxids, taxidlist,\n",
      "   negative_gilist, negative_seqidlist, negative_taxids, remote, subject,\n",
      "   subject_loc\n",
      " -ipglist <String>\n",
      "   Restrict search of database to list of IPGs\n",
      "    * Incompatible with:  subject, subject_loc\n",
      " -negative_ipglist <String>\n",
      "   Restrict search of database to everything except the specified IPGs\n",
      "    * Incompatible with:  subject, subject_loc\n",
      " -entrez_query <String>\n",
      "   Restrict search with the given Entrez query\n",
      "    * Requires:  remote\n",
      " -db_soft_mask <String>\n",
      "   Filtering algorithm ID to apply to the BLAST database as soft masking\n",
      "    * Incompatible with:  db_hard_mask, subject, subject_loc\n",
      " -db_hard_mask <String>\n",
      "   Filtering algorithm ID to apply to the BLAST database as hard masking\n",
      "    * Incompatible with:  db_soft_mask, subject, subject_loc\n",
      " -qcov_hsp_perc <Real, 0..100>\n",
      "   Percent query coverage per hsp\n",
      " -max_hsps <Integer, >=1>\n",
      "   Set maximum number of HSPs per subject sequence to save for each query\n",
      " -culling_limit <Integer, >=0>\n",
      "   If the query range of a hit is enveloped by that of at least this many\n",
      "   higher-scoring hits, delete the hit\n",
      "    * Incompatible with:  best_hit_overhang, best_hit_score_edge\n",
      " -best_hit_overhang <Real, (>0 and <0.5)>\n",
      "   Best Hit algorithm overhang value (recommended value: 0.1)\n",
      "    * Incompatible with:  culling_limit\n",
      " -best_hit_score_edge <Real, (>0 and <0.5)>\n",
      "   Best Hit algorithm score edge value (recommended value: 0.1)\n",
      "    * Incompatible with:  culling_limit\n",
      " -subject_besthit\n",
      "   Turn on best hit per subject sequence\n",
      " -max_target_seqs <Integer, >=1>\n",
      "   Maximum number of aligned sequences to keep \n",
      "   (value of 5 or more is recommended)\n",
      "   Default = `500'\n",
      "    * Incompatible with:  num_descriptions, num_alignments\n",
      "\n",
      " *** Statistical options\n",
      " -dbsize <Int8>\n",
      "   Effective length of the database \n",
      " -searchsp <Int8, >=0>\n",
      "   Effective length of the search space\n",
      " -sum_stats <Boolean>\n",
      "   Use sum statistics\n",
      "\n",
      " *** Search strategy options\n",
      " -import_search_strategy <File_In>\n",
      "   Search strategy to use\n",
      "    * Incompatible with:  export_search_strategy\n",
      " -export_search_strategy <File_Out>\n",
      "   File name to record the search strategy used\n",
      "    * Incompatible with:  import_search_strategy\n",
      "\n",
      " *** Extension options\n",
      " -xdrop_ungap <Real>\n",
      "   X-dropoff value (in bits) for ungapped extensions\n",
      " -xdrop_gap <Real>\n",
      "   X-dropoff value (in bits) for preliminary gapped extensions\n",
      " -xdrop_gap_final <Real>\n",
      "   X-dropoff value (in bits) for final gapped alignment\n",
      " -window_size <Integer, >=0>\n",
      "   Multiple hits window size, use 0 to specify 1-hit algorithm\n",
      " -ungapped\n",
      "   Perform ungapped alignment only?\n",
      "\n",
      " *** Miscellaneous options\n",
      " -parse_deflines\n",
      "   Should the query and subject defline(s) be parsed?\n",
      " -num_threads <Integer, >=1>\n",
      "   Number of threads (CPUs) to use in the BLAST search\n",
      "   Default = `1'\n",
      "    * Incompatible with:  remote\n",
      " -remote\n",
      "   Execute search remotely?\n",
      "    * Incompatible with:  gilist, seqidlist, taxids, taxidlist,\n",
      "   negative_gilist, negative_seqidlist, negative_taxids, negative_taxidlist,\n",
      "   subject_loc, num_threads\n",
      " -use_sw_tback\n",
      "   Compute locally optimal Smith-Waterman alignments?\n",
      "\n"
     ]
    }
   ],
   "source": [
    "!{bldir}blastx -help"
   ]
  },
  {
   "cell_type": "code",
   "execution_count": null,
   "metadata": {},
   "outputs": [],
   "source": [
    "#how to learn to interpret the output  "
   ]
  }
 ],
 "metadata": {
  "kernelspec": {
   "display_name": "Python 3",
   "language": "python",
   "name": "python3"
  },
  "language_info": {
   "codemirror_mode": {
    "name": "ipython",
    "version": 3
   },
   "file_extension": ".py",
   "mimetype": "text/x-python",
   "name": "python",
   "nbconvert_exporter": "python",
   "pygments_lexer": "ipython3",
   "version": "3.8.5"
  }
 },
 "nbformat": 4,
 "nbformat_minor": 4
}
